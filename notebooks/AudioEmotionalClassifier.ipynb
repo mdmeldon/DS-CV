{
  "nbformat": 4,
  "nbformat_minor": 0,
  "metadata": {
    "orig_nbformat": 2,
    "kernelspec": {
      "name": "python3",
      "display_name": "Python 3"
    },
    "colab": {
      "name": "AudioEmotionalClassifier.ipynb",
      "provenance": []
    },
    "accelerator": "GPU"
  },
  "cells": [
    {
      "cell_type": "code",
      "metadata": {
        "id": "XaBIZYx2YfBB",
        "colab_type": "code",
        "outputId": "9b4534d3-140b-4d97-b895-5635e7823fa9",
        "colab": {
          "base_uri": "https://localhost:8080/",
          "height": 51
        }
      },
      "source": [
        "# 1. Tell Git about yourself:\n",
        "from getpass import getpass\n",
        "u = input('Username: ') # Git username\n",
        "p = getpass('Password: ') # Git password"
      ],
      "execution_count": 0,
      "outputs": [
        {
          "output_type": "stream",
          "text": [
            "Username: mdmeldon\n",
            "Password: ··········\n"
          ],
          "name": "stdout"
        }
      ]
    },
    {
      "cell_type": "code",
      "metadata": {
        "id": "TGuDbDbfYduo",
        "colab_type": "code",
        "outputId": "2875c78c-3d39-487f-fc7e-0b231b301faa",
        "colab": {
          "base_uri": "https://localhost:8080/",
          "height": 34
        }
      },
      "source": [
        "# 2. Initialize Git, then Pull the Branch:\n",
        "! git init\n",
        "! git remote add origin https://$u:$p@github.com/mdmeldon/DS-CV.git "
      ],
      "execution_count": 0,
      "outputs": [
        {
          "output_type": "stream",
          "text": [
            "Initialized empty Git repository in /content/.git/\n"
          ],
          "name": "stdout"
        }
      ]
    },
    {
      "cell_type": "code",
      "metadata": {
        "id": "LfaYjp3jat5g",
        "colab_type": "code",
        "outputId": "0eebc001-c6a1-4b2d-8823-fcb17518a033",
        "colab": {
          "base_uri": "https://localhost:8080/",
          "height": 221
        }
      },
      "source": [
        "! git pull origin master"
      ],
      "execution_count": 0,
      "outputs": [
        {
          "output_type": "stream",
          "text": [
            "remote: Enumerating objects: 5, done.\u001b[K\n",
            "remote: Counting objects:  20% (1/5)\u001b[K\rremote: Counting objects:  40% (2/5)\u001b[K\rremote: Counting objects:  60% (3/5)\u001b[K\rremote: Counting objects:  80% (4/5)\u001b[K\rremote: Counting objects: 100% (5/5)\u001b[K\rremote: Counting objects: 100% (5/5), done.\u001b[K\n",
            "remote: Compressing objects: 100% (1/1)\u001b[K\rremote: Compressing objects: 100% (1/1), done.\u001b[K\n",
            "remote: Total 3 (delta 2), reused 3 (delta 2), pack-reused 0\u001b[K\n",
            "Unpacking objects:  33% (1/3)   \rUnpacking objects:  66% (2/3)   \rUnpacking objects: 100% (3/3)   \rUnpacking objects: 100% (3/3), done.\n",
            "From https://github.com/mdmeldon/DS-CV\n",
            " * branch            master     -> FETCH_HEAD\n",
            "   ef480dc..e0c073e  master     -> origin/master\n",
            "Updating ef480dc..e0c073e\n",
            "Fast-forward\n",
            " colab.sh | 2 \u001b[32m+\u001b[m\u001b[31m-\u001b[m\n",
            " 1 file changed, 1 insertion(+), 1 deletion(-)\n"
          ],
          "name": "stdout"
        }
      ]
    },
    {
      "cell_type": "code",
      "metadata": {
        "id": "_MlCEhp5ZQDi",
        "colab_type": "code",
        "outputId": "1b04647b-d8ec-4943-edb9-8d62eeb9b6b1",
        "colab": {
          "base_uri": "https://localhost:8080/",
          "height": 1000
        }
      },
      "source": [
        "# 3. Run helper:\n",
        "! sh colab.sh"
      ],
      "execution_count": 0,
      "outputs": [
        {
          "output_type": "stream",
          "text": [
            "rm: cannot remove 'sample_data': No such file or directory\n",
            "Requirement already satisfied: dvc==0.93.0 in /usr/local/lib/python3.6/dist-packages (0.93.0)\n",
            "Requirement already satisfied: pydrive2==1.4.9 in /usr/local/lib/python3.6/dist-packages (1.4.9)\n",
            "Requirement already satisfied: catalyst==20.4.1 in /usr/local/lib/python3.6/dist-packages (20.4.1)\n",
            "Requirement already satisfied: alchemy==20.4 in /usr/local/lib/python3.6/dist-packages (20.4)\n",
            "Requirement already satisfied: flatten-json>=0.1.6 in /usr/local/lib/python3.6/dist-packages (from dvc==0.93.0) (0.1.7)\n",
            "Requirement already satisfied: inflect<4,>=2.1.0 in /usr/local/lib/python3.6/dist-packages (from dvc==0.93.0) (2.1.0)\n",
            "Requirement already satisfied: colorama>=0.3.9 in /usr/local/lib/python3.6/dist-packages (from dvc==0.93.0) (0.4.3)\n",
            "Requirement already satisfied: nanotime>=0.5.2 in /usr/local/lib/python3.6/dist-packages (from dvc==0.93.0) (0.5.2)\n",
            "Requirement already satisfied: pathspec>=0.6.0 in /usr/local/lib/python3.6/dist-packages (from dvc==0.93.0) (0.8.0)\n",
            "Requirement already satisfied: ply>=3.9 in /usr/local/lib/python3.6/dist-packages (from dvc==0.93.0) (3.11)\n",
            "Requirement already satisfied: gitpython>3 in /usr/local/lib/python3.6/dist-packages (from dvc==0.93.0) (3.1.2)\n",
            "Requirement already satisfied: PyYAML<5.4,>=5.1.2 in /usr/local/lib/python3.6/dist-packages (from dvc==0.93.0) (5.3.1)\n",
            "Requirement already satisfied: texttable>=0.5.2 in /usr/local/lib/python3.6/dist-packages (from dvc==0.93.0) (1.6.2)\n",
            "Requirement already satisfied: ruamel.yaml>=0.16.1 in /usr/local/lib/python3.6/dist-packages (from dvc==0.93.0) (0.16.10)\n",
            "Requirement already satisfied: appdirs>=1.4.3 in /usr/local/lib/python3.6/dist-packages (from dvc==0.93.0) (1.4.4)\n",
            "Requirement already satisfied: python-dateutil<2.8.1,>=2.1 in /usr/local/lib/python3.6/dist-packages (from dvc==0.93.0) (2.8.0)\n",
            "Requirement already satisfied: packaging>=19.0 in /usr/local/lib/python3.6/dist-packages (from dvc==0.93.0) (20.4)\n",
            "Requirement already satisfied: treelib>=1.5.5 in /usr/local/lib/python3.6/dist-packages (from dvc==0.93.0) (1.6.1)\n",
            "Requirement already satisfied: dpath<3,>=2.0.1 in /usr/local/lib/python3.6/dist-packages (from dvc==0.93.0) (2.0.1)\n",
            "Requirement already satisfied: pygtrie==2.3.2 in /usr/local/lib/python3.6/dist-packages (from dvc==0.93.0) (2.3.2)\n",
            "Requirement already satisfied: configobj>=5.0.6 in /usr/local/lib/python3.6/dist-packages (from dvc==0.93.0) (5.0.6)\n",
            "Requirement already satisfied: jsonpath-ng>=1.5.1 in /usr/local/lib/python3.6/dist-packages (from dvc==0.93.0) (1.5.1)\n",
            "Requirement already satisfied: distro>=1.3.0 in /usr/local/lib/python3.6/dist-packages (from dvc==0.93.0) (1.5.0)\n",
            "Requirement already satisfied: grandalf==0.6 in /usr/local/lib/python3.6/dist-packages (from dvc==0.93.0) (0.6)\n",
            "Requirement already satisfied: requests>=2.22.0 in /usr/local/lib/python3.6/dist-packages (from dvc==0.93.0) (2.23.0)\n",
            "Requirement already satisfied: setuptools>=34.0.0 in /usr/local/lib/python3.6/dist-packages (from dvc==0.93.0) (46.4.0)\n",
            "Requirement already satisfied: tqdm<5,>=4.45.0 in /usr/local/lib/python3.6/dist-packages (from dvc==0.93.0) (4.46.0)\n",
            "Requirement already satisfied: pyasn1>=0.4.1 in /usr/local/lib/python3.6/dist-packages (from dvc==0.93.0) (0.4.8)\n",
            "Requirement already satisfied: shortuuid>=0.5.0 in /usr/local/lib/python3.6/dist-packages (from dvc==0.93.0) (1.0.1)\n",
            "Requirement already satisfied: pydot>=1.2.4 in /usr/local/lib/python3.6/dist-packages (from dvc==0.93.0) (1.3.0)\n",
            "Requirement already satisfied: voluptuous>=0.11.7 in /usr/local/lib/python3.6/dist-packages (from dvc==0.93.0) (0.11.7)\n",
            "Requirement already satisfied: zc.lockfile>=1.2.1 in /usr/local/lib/python3.6/dist-packages (from dvc==0.93.0) (2.0)\n",
            "Requirement already satisfied: flufl.lock>=3.2 in /usr/local/lib/python3.6/dist-packages (from dvc==0.93.0) (3.2)\n",
            "Requirement already satisfied: networkx<2.4,>=2.1 in /usr/local/lib/python3.6/dist-packages (from dvc==0.93.0) (2.3)\n",
            "Requirement already satisfied: humanize>=0.5.1 in /usr/local/lib/python3.6/dist-packages (from dvc==0.93.0) (0.5.1)\n",
            "Requirement already satisfied: funcy>=1.14 in /usr/local/lib/python3.6/dist-packages (from dvc==0.93.0) (1.14)\n",
            "Requirement already satisfied: google-api-python-client>=1.7.12 in /usr/local/lib/python3.6/dist-packages (from pydrive2==1.4.9) (1.7.12)\n",
            "Requirement already satisfied: oauth2client>=4.0.0 in /usr/local/lib/python3.6/dist-packages (from pydrive2==1.4.9) (4.1.3)\n",
            "Requirement already satisfied: pyOpenSSL>=19.1.0 in /usr/local/lib/python3.6/dist-packages (from pydrive2==1.4.9) (19.1.0)\n",
            "Requirement already satisfied: torch>=1.0.0 in /usr/local/lib/python3.6/dist-packages (from catalyst==20.4.1) (1.5.0+cu101)\n",
            "Requirement already satisfied: scikit-learn>=0.20 in /usr/local/lib/python3.6/dist-packages (from catalyst==20.4.1) (0.22.2.post1)\n",
            "Requirement already satisfied: imageio in /usr/local/lib/python3.6/dist-packages (from catalyst==20.4.1) (2.4.1)\n",
            "Requirement already satisfied: tensorboard>=1.14.0 in /usr/local/lib/python3.6/dist-packages (from catalyst==20.4.1) (2.2.1)\n",
            "Requirement already satisfied: deprecation in /usr/local/lib/python3.6/dist-packages (from catalyst==20.4.1) (2.1.0)\n",
            "Requirement already satisfied: numpy>=1.16.4 in /usr/local/lib/python3.6/dist-packages (from catalyst==20.4.1) (1.18.4)\n",
            "Requirement already satisfied: opencv-python in /usr/local/lib/python3.6/dist-packages (from catalyst==20.4.1) (4.1.2.30)\n",
            "Requirement already satisfied: ipython in /usr/local/lib/python3.6/dist-packages (from catalyst==20.4.1) (5.5.0)\n",
            "Requirement already satisfied: torchvision>=0.2.1 in /usr/local/lib/python3.6/dist-packages (from catalyst==20.4.1) (0.6.0+cu101)\n",
            "Requirement already satisfied: pandas>=0.22 in /usr/local/lib/python3.6/dist-packages (from catalyst==20.4.1) (1.0.3)\n",
            "Requirement already satisfied: scikit-image>=0.14.2 in /usr/local/lib/python3.6/dist-packages (from catalyst==20.4.1) (0.16.2)\n",
            "Requirement already satisfied: seaborn in /usr/local/lib/python3.6/dist-packages (from catalyst==20.4.1) (0.10.1)\n",
            "Requirement already satisfied: matplotlib in /usr/local/lib/python3.6/dist-packages (from catalyst==20.4.1) (3.2.1)\n",
            "Requirement already satisfied: Pillow<7 in /usr/local/lib/python3.6/dist-packages (from catalyst==20.4.1) (6.2.2)\n",
            "Requirement already satisfied: plotly>=4.1.0 in /usr/local/lib/python3.6/dist-packages (from catalyst==20.4.1) (4.4.1)\n",
            "Requirement already satisfied: crc32c>=1.7 in /usr/local/lib/python3.6/dist-packages (from catalyst==20.4.1) (2.0)\n",
            "Requirement already satisfied: tensorboardX in /usr/local/lib/python3.6/dist-packages (from catalyst==20.4.1) (2.0)\n",
            "Requirement already satisfied: gitdb<5,>=4.0.1 in /usr/local/lib/python3.6/dist-packages (from gitpython>3->dvc==0.93.0) (4.0.5)\n",
            "Requirement already satisfied: ruamel.yaml.clib>=0.1.2; platform_python_implementation == \"CPython\" and python_version < \"3.9\" in /usr/local/lib/python3.6/dist-packages (from ruamel.yaml>=0.16.1->dvc==0.93.0) (0.2.0)\n",
            "Requirement already satisfied: six>=1.5 in /usr/local/lib/python3.6/dist-packages (from python-dateutil<2.8.1,>=2.1->dvc==0.93.0) (1.12.0)\n",
            "Requirement already satisfied: pyparsing>=2.0.2 in /usr/local/lib/python3.6/dist-packages (from packaging>=19.0->dvc==0.93.0) (2.4.7)\n",
            "Requirement already satisfied: future in /usr/local/lib/python3.6/dist-packages (from treelib>=1.5.5->dvc==0.93.0) (0.16.0)\n",
            "Requirement already satisfied: decorator in /usr/local/lib/python3.6/dist-packages (from jsonpath-ng>=1.5.1->dvc==0.93.0) (4.4.2)\n",
            "Requirement already satisfied: chardet<4,>=3.0.2 in /usr/local/lib/python3.6/dist-packages (from requests>=2.22.0->dvc==0.93.0) (3.0.4)\n",
            "Requirement already satisfied: idna<3,>=2.5 in /usr/local/lib/python3.6/dist-packages (from requests>=2.22.0->dvc==0.93.0) (2.9)\n",
            "Requirement already satisfied: urllib3!=1.25.0,!=1.25.1,<1.26,>=1.21.1 in /usr/local/lib/python3.6/dist-packages (from requests>=2.22.0->dvc==0.93.0) (1.24.3)\n",
            "Requirement already satisfied: certifi>=2017.4.17 in /usr/local/lib/python3.6/dist-packages (from requests>=2.22.0->dvc==0.93.0) (2020.4.5.1)\n",
            "Requirement already satisfied: atpublic in /usr/local/lib/python3.6/dist-packages (from flufl.lock>=3.2->dvc==0.93.0) (1.0)\n",
            "Requirement already satisfied: httplib2<1dev,>=0.17.0 in /usr/local/lib/python3.6/dist-packages (from google-api-python-client>=1.7.12->pydrive2==1.4.9) (0.17.3)\n",
            "Requirement already satisfied: google-auth-httplib2>=0.0.3 in /usr/local/lib/python3.6/dist-packages (from google-api-python-client>=1.7.12->pydrive2==1.4.9) (0.0.3)\n",
            "Requirement already satisfied: google-auth>=1.4.1 in /usr/local/lib/python3.6/dist-packages (from google-api-python-client>=1.7.12->pydrive2==1.4.9) (1.7.2)\n",
            "Requirement already satisfied: uritemplate<4dev,>=3.0.0 in /usr/local/lib/python3.6/dist-packages (from google-api-python-client>=1.7.12->pydrive2==1.4.9) (3.0.1)\n",
            "Requirement already satisfied: rsa>=3.1.4 in /usr/local/lib/python3.6/dist-packages (from oauth2client>=4.0.0->pydrive2==1.4.9) (4.0)\n",
            "Requirement already satisfied: pyasn1-modules>=0.0.5 in /usr/local/lib/python3.6/dist-packages (from oauth2client>=4.0.0->pydrive2==1.4.9) (0.2.8)\n",
            "Requirement already satisfied: cryptography>=2.8 in /usr/local/lib/python3.6/dist-packages (from pyOpenSSL>=19.1.0->pydrive2==1.4.9) (2.9.2)\n",
            "Requirement already satisfied: scipy>=0.17.0 in /usr/local/lib/python3.6/dist-packages (from scikit-learn>=0.20->catalyst==20.4.1) (1.4.1)\n",
            "Requirement already satisfied: joblib>=0.11 in /usr/local/lib/python3.6/dist-packages (from scikit-learn>=0.20->catalyst==20.4.1) (0.15.1)\n",
            "Requirement already satisfied: wheel>=0.26; python_version >= \"3\" in /usr/local/lib/python3.6/dist-packages (from tensorboard>=1.14.0->catalyst==20.4.1) (0.34.2)\n",
            "Requirement already satisfied: google-auth-oauthlib<0.5,>=0.4.1 in /usr/local/lib/python3.6/dist-packages (from tensorboard>=1.14.0->catalyst==20.4.1) (0.4.1)\n",
            "Requirement already satisfied: absl-py>=0.4 in /usr/local/lib/python3.6/dist-packages (from tensorboard>=1.14.0->catalyst==20.4.1) (0.9.0)\n",
            "Requirement already satisfied: werkzeug>=0.11.15 in /usr/local/lib/python3.6/dist-packages (from tensorboard>=1.14.0->catalyst==20.4.1) (1.0.1)\n",
            "Requirement already satisfied: protobuf>=3.6.0 in /usr/local/lib/python3.6/dist-packages (from tensorboard>=1.14.0->catalyst==20.4.1) (3.10.0)\n",
            "Requirement already satisfied: tensorboard-plugin-wit>=1.6.0 in /usr/local/lib/python3.6/dist-packages (from tensorboard>=1.14.0->catalyst==20.4.1) (1.6.0.post3)\n",
            "Requirement already satisfied: grpcio>=1.24.3 in /usr/local/lib/python3.6/dist-packages (from tensorboard>=1.14.0->catalyst==20.4.1) (1.29.0)\n",
            "Requirement already satisfied: markdown>=2.6.8 in /usr/local/lib/python3.6/dist-packages (from tensorboard>=1.14.0->catalyst==20.4.1) (3.2.2)\n",
            "Requirement already satisfied: traitlets>=4.2 in /usr/local/lib/python3.6/dist-packages (from ipython->catalyst==20.4.1) (4.3.3)\n",
            "Requirement already satisfied: simplegeneric>0.8 in /usr/local/lib/python3.6/dist-packages (from ipython->catalyst==20.4.1) (0.8.1)\n",
            "Requirement already satisfied: pickleshare in /usr/local/lib/python3.6/dist-packages (from ipython->catalyst==20.4.1) (0.7.5)\n",
            "Requirement already satisfied: prompt-toolkit<2.0.0,>=1.0.4 in /usr/local/lib/python3.6/dist-packages (from ipython->catalyst==20.4.1) (1.0.18)\n",
            "Requirement already satisfied: pexpect; sys_platform != \"win32\" in /usr/local/lib/python3.6/dist-packages (from ipython->catalyst==20.4.1) (4.8.0)\n",
            "Requirement already satisfied: pygments in /usr/local/lib/python3.6/dist-packages (from ipython->catalyst==20.4.1) (2.1.3)\n",
            "Requirement already satisfied: pytz>=2017.2 in /usr/local/lib/python3.6/dist-packages (from pandas>=0.22->catalyst==20.4.1) (2018.9)\n",
            "Requirement already satisfied: PyWavelets>=0.4.0 in /usr/local/lib/python3.6/dist-packages (from scikit-image>=0.14.2->catalyst==20.4.1) (1.1.1)\n",
            "Requirement already satisfied: cycler>=0.10 in /usr/local/lib/python3.6/dist-packages (from matplotlib->catalyst==20.4.1) (0.10.0)\n",
            "Requirement already satisfied: kiwisolver>=1.0.1 in /usr/local/lib/python3.6/dist-packages (from matplotlib->catalyst==20.4.1) (1.2.0)\n",
            "Requirement already satisfied: retrying>=1.3.3 in /usr/local/lib/python3.6/dist-packages (from plotly>=4.1.0->catalyst==20.4.1) (1.3.3)\n",
            "Requirement already satisfied: smmap<4,>=3.0.1 in /usr/local/lib/python3.6/dist-packages (from gitdb<5,>=4.0.1->gitpython>3->dvc==0.93.0) (3.0.4)\n",
            "Requirement already satisfied: cachetools<3.2,>=2.0.0 in /usr/local/lib/python3.6/dist-packages (from google-auth>=1.4.1->google-api-python-client>=1.7.12->pydrive2==1.4.9) (3.1.1)\n",
            "Requirement already satisfied: cffi!=1.11.3,>=1.8 in /usr/local/lib/python3.6/dist-packages (from cryptography>=2.8->pyOpenSSL>=19.1.0->pydrive2==1.4.9) (1.14.0)\n",
            "Requirement already satisfied: requests-oauthlib>=0.7.0 in /usr/local/lib/python3.6/dist-packages (from google-auth-oauthlib<0.5,>=0.4.1->tensorboard>=1.14.0->catalyst==20.4.1) (1.3.0)\n",
            "Requirement already satisfied: importlib-metadata; python_version < \"3.8\" in /usr/local/lib/python3.6/dist-packages (from markdown>=2.6.8->tensorboard>=1.14.0->catalyst==20.4.1) (1.6.0)\n",
            "Requirement already satisfied: ipython-genutils in /usr/local/lib/python3.6/dist-packages (from traitlets>=4.2->ipython->catalyst==20.4.1) (0.2.0)\n",
            "Requirement already satisfied: wcwidth in /usr/local/lib/python3.6/dist-packages (from prompt-toolkit<2.0.0,>=1.0.4->ipython->catalyst==20.4.1) (0.1.9)\n",
            "Requirement already satisfied: ptyprocess>=0.5 in /usr/local/lib/python3.6/dist-packages (from pexpect; sys_platform != \"win32\"->ipython->catalyst==20.4.1) (0.6.0)\n",
            "Requirement already satisfied: pycparser in /usr/local/lib/python3.6/dist-packages (from cffi!=1.11.3,>=1.8->cryptography>=2.8->pyOpenSSL>=19.1.0->pydrive2==1.4.9) (2.20)\n",
            "Requirement already satisfied: oauthlib>=3.0.0 in /usr/local/lib/python3.6/dist-packages (from requests-oauthlib>=0.7.0->google-auth-oauthlib<0.5,>=0.4.1->tensorboard>=1.14.0->catalyst==20.4.1) (3.1.0)\n",
            "Requirement already satisfied: zipp>=0.5 in /usr/local/lib/python3.6/dist-packages (from importlib-metadata; python_version < \"3.8\"->markdown>=2.6.8->tensorboard>=1.14.0->catalyst==20.4.1) (3.1.0)\n"
          ],
          "name": "stdout"
        }
      ]
    },
    {
      "cell_type": "code",
      "metadata": {
        "id": "O0FNZ-PyZgK3",
        "colab_type": "code",
        "outputId": "9a2e079b-b762-47eb-ce4d-52a575a0e5d9",
        "colab": {
          "base_uri": "https://localhost:8080/",
          "height": 663
        }
      },
      "source": [
        "! dvc pull"
      ],
      "execution_count": 0,
      "outputs": [
        {
          "output_type": "stream",
          "text": [
            "\u001b[33m+-------------------------------------------+\n",
            "\u001b[39m\u001b[33m|\u001b[39m                                           \u001b[33m|\u001b[39m\n",
            "\u001b[33m|\u001b[39m     Update available \u001b[31m0.93.0\u001b[39m -> \u001b[32m0.94.0\u001b[39m     \u001b[33m|\u001b[39m\n",
            "\u001b[33m|\u001b[39m      Run `\u001b[33mpip\u001b[39m install dvc \u001b[34m--upgrade\u001b[39m`      \u001b[33m|\u001b[39m\n",
            "\u001b[33m|\u001b[39m                                           \u001b[33m|\u001b[39m\n",
            "\u001b[33m+-------------------------------------------+\n",
            "\u001b[39m\n",
            "Downloading data/interim/RAV_df.csv                                    ... 174kB\n",
            "!\u001b[A\n",
            "Downloading data/processed/Data_path.csv                              ... 1.14MB\u001b[A\n",
            "\n",
            "!\u001b[A\u001b[A\n",
            "\n",
            "Downloading data/interim/TESS_df.csv                                   ... 474kB\u001b[A\u001b[A\n",
            "\n",
            "\n",
            "!\u001b[A\u001b[A\u001b[A\n",
            "\n",
            "\n",
            "Downloading data/interim/SAVEE_df.csv                                 ... 41.3kB\u001b[A\u001b[A\u001b[A\n",
            "\n",
            "\n",
            "\n",
            "!\u001b[A\u001b[A\u001b[A\u001b[A\n",
            "\n",
            "\n",
            "\n",
            "\n",
            "                                                                                \u001b[A\n",
            "\n",
            "                                                                                \u001b[A\u001b[A\n",
            "\n",
            "\n",
            "                                                                                \u001b[A\u001b[A\u001b[A\n",
            "\n",
            "\n",
            "\n",
            "5 added\n",
            "\u001b[0m\u001b[0m"
          ],
          "name": "stdout"
        }
      ]
    },
    {
      "cell_type": "code",
      "metadata": {
        "id": "uNKvUUOnYQoa",
        "colab_type": "code",
        "colab": {
          "base_uri": "https://localhost:8080/",
          "height": 357
        },
        "outputId": "0816fada-5e95-4410-cfa8-73d280f5e72c"
      },
      "source": [
        "# sklearn\n",
        "from sklearn.metrics import confusion_matrix, accuracy_score\n",
        "from sklearn.model_selection import train_test_split\n",
        "from sklearn.preprocessing import LabelEncoder\n",
        "\n",
        "#import torchvision\n",
        "from resnet import resnet50\n",
        "from auc import AUCCallback\n",
        "import torch\n",
        "from torch.utils.data import DataLoader, TensorDataset\n",
        "from catalyst.dl import SupervisedRunner\n",
        "from catalyst.dl.utils import set_global_seed, prepare_cudnn\n",
        "from catalyst.dl.callbacks import AccuracyCallback, PrecisionRecallF1ScoreCallback, VerboseLogger\n",
        "\n",
        "# Other  \n",
        "from tqdm import tqdm, tqdm_pandas\n",
        "import scipy\n",
        "from scipy.stats import skew\n",
        "import librosa\n",
        "import librosa.display\n",
        "import json\n",
        "import numpy as np\n",
        "import matplotlib.pyplot as plt\n",
        "from matplotlib.pyplot import specgram\n",
        "import pandas as pd\n",
        "import seaborn as sns\n",
        "import glob \n",
        "import os\n",
        "import sys\n",
        "import IPython.display as ipd  # To play sound in the notebook\n",
        "import warnings\n",
        "# ignore warnings \n",
        "if not sys.warnoptions:\n",
        "    warnings.simplefilter(\"ignore\")"
      ],
      "execution_count": 1,
      "outputs": [
        {
          "output_type": "stream",
          "text": [
            "/usr/lib/python3.6/importlib/_bootstrap.py:219: RuntimeWarning:\n",
            "\n",
            "numpy.ufunc size changed, may indicate binary incompatibility. Expected 192 from C header, got 216 from PyObject\n",
            "\n",
            "/usr/lib/python3.6/importlib/_bootstrap.py:219: RuntimeWarning:\n",
            "\n",
            "numpy.ufunc size changed, may indicate binary incompatibility. Expected 192 from C header, got 216 from PyObject\n",
            "\n",
            "/usr/lib/python3.6/importlib/_bootstrap.py:219: RuntimeWarning:\n",
            "\n",
            "numpy.ufunc size changed, may indicate binary incompatibility. Expected 192 from C header, got 216 from PyObject\n",
            "\n",
            "/usr/local/lib/python3.6/dist-packages/statsmodels/tools/_testing.py:19: FutureWarning:\n",
            "\n",
            "pandas.util.testing is deprecated. Use the functions in the public API at pandas.testing instead.\n",
            "\n",
            "/usr/lib/python3.6/importlib/_bootstrap.py:219: RuntimeWarning:\n",
            "\n",
            "numpy.ufunc size changed, may indicate binary incompatibility. Expected 192 from C header, got 216 from PyObject\n",
            "\n"
          ],
          "name": "stderr"
        }
      ]
    },
    {
      "cell_type": "code",
      "metadata": {
        "id": "hIiT5zROYQoi",
        "colab_type": "code",
        "outputId": "635c4db5-9a2b-4781-bdad-0f0bac513cea",
        "colab": {
          "base_uri": "https://localhost:8080/",
          "height": 204
        }
      },
      "source": [
        "ref = pd.read_csv(\"data/processed/Data_path.csv\")\n",
        "ref.head()"
      ],
      "execution_count": 2,
      "outputs": [
        {
          "output_type": "execute_result",
          "data": {
            "text/html": [
              "<div>\n",
              "<style scoped>\n",
              "    .dataframe tbody tr th:only-of-type {\n",
              "        vertical-align: middle;\n",
              "    }\n",
              "\n",
              "    .dataframe tbody tr th {\n",
              "        vertical-align: top;\n",
              "    }\n",
              "\n",
              "    .dataframe thead th {\n",
              "        text-align: right;\n",
              "    }\n",
              "</style>\n",
              "<table border=\"1\" class=\"dataframe\">\n",
              "  <thead>\n",
              "    <tr style=\"text-align: right;\">\n",
              "      <th></th>\n",
              "      <th>labels</th>\n",
              "      <th>source</th>\n",
              "      <th>path</th>\n",
              "    </tr>\n",
              "  </thead>\n",
              "  <tbody>\n",
              "    <tr>\n",
              "      <th>0</th>\n",
              "      <td>male_disgust</td>\n",
              "      <td>SAVEE</td>\n",
              "      <td>../data/raw/surrey-audiovisual-expressed-emoti...</td>\n",
              "    </tr>\n",
              "    <tr>\n",
              "      <th>1</th>\n",
              "      <td>male_disgust</td>\n",
              "      <td>SAVEE</td>\n",
              "      <td>../data/raw/surrey-audiovisual-expressed-emoti...</td>\n",
              "    </tr>\n",
              "    <tr>\n",
              "      <th>2</th>\n",
              "      <td>male_sad</td>\n",
              "      <td>SAVEE</td>\n",
              "      <td>../data/raw/surrey-audiovisual-expressed-emoti...</td>\n",
              "    </tr>\n",
              "    <tr>\n",
              "      <th>3</th>\n",
              "      <td>male_neutral</td>\n",
              "      <td>SAVEE</td>\n",
              "      <td>../data/raw/surrey-audiovisual-expressed-emoti...</td>\n",
              "    </tr>\n",
              "    <tr>\n",
              "      <th>4</th>\n",
              "      <td>male_fear</td>\n",
              "      <td>SAVEE</td>\n",
              "      <td>../data/raw/surrey-audiovisual-expressed-emoti...</td>\n",
              "    </tr>\n",
              "  </tbody>\n",
              "</table>\n",
              "</div>"
            ],
            "text/plain": [
              "         labels source                                               path\n",
              "0  male_disgust  SAVEE  ../data/raw/surrey-audiovisual-expressed-emoti...\n",
              "1  male_disgust  SAVEE  ../data/raw/surrey-audiovisual-expressed-emoti...\n",
              "2      male_sad  SAVEE  ../data/raw/surrey-audiovisual-expressed-emoti...\n",
              "3  male_neutral  SAVEE  ../data/raw/surrey-audiovisual-expressed-emoti...\n",
              "4     male_fear  SAVEE  ../data/raw/surrey-audiovisual-expressed-emoti..."
            ]
          },
          "metadata": {
            "tags": []
          },
          "execution_count": 2
        }
      ]
    },
    {
      "cell_type": "code",
      "metadata": {
        "id": "JrHMXepDYQom",
        "colab_type": "code",
        "colab": {}
      },
      "source": [
        "'''\n",
        "1. Data Augmentation method   \n",
        "'''\n",
        "def speedNpitch(data):\n",
        "    \"\"\"\n",
        "    Speed and Pitch Tuning.\n",
        "    \"\"\"\n",
        "    # you can change low and high here\n",
        "    length_change = np.random.uniform(low=0.8, high = 1)\n",
        "    speed_fac = 1.2  / length_change # try changing 1.0 to 2.0 ... =D\n",
        "    tmp = np.interp(np.arange(0,len(data),speed_fac),np.arange(0,len(data)),data)\n",
        "    minlen = min(data.shape[0], tmp.shape[0])\n",
        "    data *= 0\n",
        "    data[0:minlen] = tmp[0:minlen]\n",
        "    return data\n",
        "\n",
        "'''\n",
        "2. Extracting the MFCC feature as an image (Matrix format).  \n",
        "'''\n",
        "def prepare_data(df, n, aug, mfcc):\n",
        "    X = np.empty(shape=(df.shape[0], n, 216, 1))\n",
        "    input_length = sampling_rate * audio_duration\n",
        "    \n",
        "    cnt = 0\n",
        "    for fname in tqdm(df.path):\n",
        "        file_path = fname\n",
        "        data, _ = librosa.load(file_path, sr=sampling_rate\n",
        "                               ,res_type=\"kaiser_fast\"\n",
        "                               ,duration=2.5\n",
        "                               ,offset=0.5\n",
        "                              )\n",
        "\n",
        "        # Random offset / Padding\n",
        "        if len(data) > input_length:\n",
        "            max_offset = len(data) - input_length\n",
        "            offset = np.random.randint(max_offset)\n",
        "            data = data[offset:(input_length+offset)]\n",
        "        else:\n",
        "            if input_length > len(data):\n",
        "                max_offset = input_length - len(data)\n",
        "                offset = np.random.randint(max_offset)\n",
        "            else:\n",
        "                offset = 0\n",
        "            data = np.pad(data, (offset, int(input_length) - len(data) - offset), \"constant\")\n",
        "\n",
        "        # Augmentation? \n",
        "        if aug == 1:\n",
        "            data = speedNpitch(data)\n",
        "        \n",
        "        # which feature?\n",
        "        if mfcc == 1:\n",
        "            # MFCC extraction \n",
        "            MFCC = librosa.feature.mfcc(data, sr=sampling_rate, n_mfcc=n_mfcc)\n",
        "            MFCC = np.expand_dims(MFCC, axis=-1)\n",
        "            X[cnt,] = MFCC\n",
        "            \n",
        "        else:\n",
        "            # Log-melspectogram\n",
        "            melspec = librosa.feature.melspectrogram(data, n_mels = n_melspec)   \n",
        "            logspec = librosa.amplitude_to_db(melspec)\n",
        "            logspec = np.expand_dims(logspec, axis=-1)\n",
        "            X[cnt,] = logspec\n",
        "            \n",
        "        cnt += 1\n",
        "    \n",
        "    return X\n"
      ],
      "execution_count": 0,
      "outputs": []
    },
    {
      "cell_type": "code",
      "metadata": {
        "id": "heJZjlXMYQor",
        "colab_type": "code",
        "colab": {}
      },
      "source": [
        "# sampling_rate=44100\n",
        "# audio_duration=2.5\n",
        "# n_mfcc = 30\n",
        "# mfcc = prepare_data(ref, n = n_mfcc, aug = 0, mfcc = 1)"
      ],
      "execution_count": 0,
      "outputs": []
    },
    {
      "cell_type": "code",
      "metadata": {
        "id": "M7dPI-KDYQov",
        "colab_type": "code",
        "colab": {}
      },
      "source": [
        "mfcc = np.load('data/processed/MFCC_PREPARE.npy')"
      ],
      "execution_count": 0,
      "outputs": []
    },
    {
      "cell_type": "code",
      "metadata": {
        "id": "a_zvENiGYQoz",
        "colab_type": "code",
        "colab": {}
      },
      "source": [
        "# Split between train and test \n",
        "X_train, X_test, y_train, y_test = train_test_split(mfcc\n",
        "                                                    , ref.labels\n",
        "                                                    , test_size=0.25\n",
        "                                                    , shuffle=True\n",
        "                                                    , random_state=42\n",
        "                                                   )\n"
      ],
      "execution_count": 0,
      "outputs": []
    },
    {
      "cell_type": "code",
      "metadata": {
        "id": "oBhvC5kkYQo3",
        "colab_type": "code",
        "colab": {}
      },
      "source": [
        "#np.save('../data/processed/MFCC_PREPARE.npy', mfcc)"
      ],
      "execution_count": 0,
      "outputs": []
    },
    {
      "cell_type": "code",
      "metadata": {
        "id": "GgSe-6b9YQo8",
        "colab_type": "code",
        "colab": {}
      },
      "source": [
        "# one hot encode the target \n",
        "lb = LabelEncoder()\n",
        "# y_train = np.eye(len(ref.labels.unique()), dtype='uint8')[lb.fit_transform(y_train)] # to_categorical\n",
        "# y_test = np.eye(len(ref.labels.unique()), dtype='uint8')[lb.fit_transform(y_test)] # to_categorical\n",
        "\n",
        "y_train = lb.fit_transform(y_train) # to_categorical\n",
        "y_test = lb.fit_transform(y_test) # to_categorical\n",
        "\n",
        "# Normalization as per the standard NN process\n",
        "mean = np.mean(X_train, axis=0)\n",
        "std = np.std(X_train, axis=0)\n",
        "\n",
        "X_train = (X_train - mean)/std\n",
        "X_test = (X_test - mean)/std"
      ],
      "execution_count": 0,
      "outputs": []
    },
    {
      "cell_type": "code",
      "metadata": {
        "id": "VnjI14pqYQpA",
        "colab_type": "code",
        "colab": {}
      },
      "source": [
        "model = resnet50(pretrained=False, progress=True, num_classes=14)"
      ],
      "execution_count": 0,
      "outputs": []
    },
    {
      "cell_type": "code",
      "metadata": {
        "id": "wX2QZyGZYQpE",
        "colab_type": "code",
        "colab": {}
      },
      "source": [
        "BATCH_SIZE = 16"
      ],
      "execution_count": 0,
      "outputs": []
    },
    {
      "cell_type": "code",
      "metadata": {
        "id": "B6RztAlDYQpH",
        "colab_type": "code",
        "colab": {}
      },
      "source": [
        "device = torch.device('cuda:0' if torch.cuda.is_available() else 'cpu')\n",
        "\n",
        "# create feature and targets tensor for train set. As you remember we need variable to accumulate gradients. Therefore first we create tensor, then we will create variable\n",
        "featuresTrain = torch.from_numpy(X_train[0:-1])\n",
        "targetsTrain = torch.from_numpy(y_train[0:-1]).type(torch.LongTensor) # data type is long\n",
        "\n",
        "# create feature and targets tensor for test set.\n",
        "featuresTest = torch.from_numpy(X_test[0:-1])\n",
        "targetsTest = torch.from_numpy(y_test[0:-1]).type(torch.LongTensor) # data type is long\n",
        "\n",
        "trainSet = TensorDataset(featuresTrain,targetsTrain)\n",
        "validSet = TensorDataset(featuresTest,targetsTest)\n",
        "\n",
        "# data loader\n",
        "train_loader = DataLoader(trainSet, batch_size = BATCH_SIZE, shuffle = True)\n",
        "valid_loader = DataLoader(validSet, batch_size = BATCH_SIZE, shuffle = False)"
      ],
      "execution_count": 0,
      "outputs": []
    },
    {
      "cell_type": "code",
      "metadata": {
        "id": "7K0Q_shDYQpL",
        "colab_type": "code",
        "colab": {}
      },
      "source": [
        "optimizer = torch.optim.Adam(model.parameters(), lr=3e-4)\n",
        "criterion = torch.nn.CrossEntropyLoss()"
      ],
      "execution_count": 0,
      "outputs": []
    },
    {
      "cell_type": "code",
      "metadata": {
        "id": "vWUVsujkYQpO",
        "colab_type": "code",
        "colab": {}
      },
      "source": [
        "# Init catalyst components\n",
        "runner = SupervisedRunner(device=device)\n",
        "loaders = {'train': train_loader, 'valid': valid_loader}\n",
        "logdir = 'data/logs/1'\n",
        "callbacks = [\n",
        "             AUCCallback(num_classes = 14),\n",
        "             AccuracyCallback(),\n",
        "    #AUCCallback(num_classes = 14),\n",
        "    # VerboseLogger(),\n",
        "    # PrecisionRecallF1ScoreCallback(num_classes = 14),\n",
        "]"
      ],
      "execution_count": 0,
      "outputs": []
    },
    {
      "cell_type": "code",
      "metadata": {
        "id": "8vfJa0YxYQpS",
        "colab_type": "code",
        "outputId": "9589faa4-b413-478b-d166-5353094f708d",
        "colab": {
          "base_uri": "https://localhost:8080/",
          "height": 1000
        }
      },
      "source": [
        "runner.train(\n",
        "        model=model.double(),\n",
        "        criterion=criterion,\n",
        "        optimizer=optimizer,\n",
        "        loaders=loaders,\n",
        "        callbacks=callbacks,\n",
        "        logdir=logdir,\n",
        "        num_epochs=20,\n",
        "        verbose=True,        \n",
        "    )  "
      ],
      "execution_count": 0,
      "outputs": [
        {
          "output_type": "stream",
          "text": [
            "\n",
            "\n",
            "1/20 * Epoch (train):   0% 0/570 [00:00<?, ?it/s]\u001b[A\u001b[A\n",
            "\n",
            "1/20 * Epoch (train):   0% 0/570 [00:00<?, ?it/s, accuracy01=0.438, loss=2.840]\u001b[A\u001b[A\n",
            "\n",
            "1/20 * Epoch (train):   0% 1/570 [00:00<07:14,  1.31it/s, accuracy01=0.438, loss=2.840]\u001b[A\u001b[A\n",
            "\n",
            "1/20 * Epoch (train):   0% 1/570 [00:01<07:14,  1.31it/s, accuracy01=0.438, loss=2.161]\u001b[A\u001b[A\n",
            "\n",
            "1/20 * Epoch (train):   0% 2/570 [00:01<06:42,  1.41it/s, accuracy01=0.438, loss=2.161]\u001b[A\u001b[A\n",
            "\n",
            "1/20 * Epoch (train):   0% 2/570 [00:01<06:42,  1.41it/s, accuracy01=0.312, loss=1.654]\u001b[A\u001b[A\n",
            "\n",
            "1/20 * Epoch (train):   1% 3/570 [00:01<06:20,  1.49it/s, accuracy01=0.312, loss=1.654]\u001b[A\u001b[A\n",
            "\n",
            "1/20 * Epoch (train):   1% 3/570 [00:02<06:20,  1.49it/s, accuracy01=0.438, loss=1.677]\u001b[A\u001b[A\n",
            "\n",
            "1/20 * Epoch (train):   1% 4/570 [00:02<06:03,  1.56it/s, accuracy01=0.438, loss=1.677]\u001b[A\u001b[A\n",
            "\n",
            "1/20 * Epoch (train):   1% 4/570 [00:03<06:03,  1.56it/s, accuracy01=0.375, loss=1.582]\u001b[A\u001b[A\n",
            "\n",
            "1/20 * Epoch (train):   1% 5/570 [00:03<05:53,  1.60it/s, accuracy01=0.375, loss=1.582]\u001b[A\u001b[A\n",
            "\n",
            "1/20 * Epoch (train):   1% 5/570 [00:03<05:53,  1.60it/s, accuracy01=0.312, loss=1.796]\u001b[A\u001b[A\n",
            "\n",
            "1/20 * Epoch (train):   1% 6/570 [00:03<05:45,  1.63it/s, accuracy01=0.312, loss=1.796]\u001b[A\u001b[A\n",
            "\n",
            "1/20 * Epoch (train):   1% 6/570 [00:04<05:45,  1.63it/s, accuracy01=0.375, loss=3.021]\u001b[A\u001b[A\n",
            "\n",
            "1/20 * Epoch (train):   1% 7/570 [00:04<05:41,  1.65it/s, accuracy01=0.375, loss=3.021]\u001b[A\u001b[A\n",
            "\n",
            "1/20 * Epoch (train):   1% 7/570 [00:04<05:41,  1.65it/s, accuracy01=0.125, loss=2.333]\u001b[A\u001b[A\n",
            "\n",
            "1/20 * Epoch (train):   1% 8/570 [00:04<05:36,  1.67it/s, accuracy01=0.125, loss=2.333]\u001b[A\u001b[A\n",
            "\n",
            "1/20 * Epoch (train):   1% 8/570 [00:05<05:36,  1.67it/s, accuracy01=0.375, loss=2.017]\u001b[A\u001b[A\n",
            "\n",
            "1/20 * Epoch (train):   2% 9/570 [00:05<05:33,  1.68it/s, accuracy01=0.375, loss=2.017]\u001b[A\u001b[A\n",
            "\n",
            "1/20 * Epoch (train):   2% 9/570 [00:06<05:33,  1.68it/s, accuracy01=0.375, loss=2.138]\u001b[A\u001b[A\n",
            "\n",
            "1/20 * Epoch (train):   2% 10/570 [00:06<05:31,  1.69it/s, accuracy01=0.375, loss=2.138]\u001b[A\u001b[A\n",
            "\n",
            "1/20 * Epoch (train):   2% 10/570 [00:06<05:31,  1.69it/s, accuracy01=0.312, loss=1.676]\u001b[A\u001b[A\n",
            "\n",
            "1/20 * Epoch (train):   2% 11/570 [00:06<05:29,  1.70it/s, accuracy01=0.312, loss=1.676]\u001b[A\u001b[A\n",
            "\n",
            "1/20 * Epoch (train):   2% 11/570 [00:07<05:29,  1.70it/s, accuracy01=0.312, loss=2.650]\u001b[A\u001b[A\n",
            "\n",
            "1/20 * Epoch (train):   2% 12/570 [00:07<05:28,  1.70it/s, accuracy01=0.312, loss=2.650]\u001b[A\u001b[A\n",
            "\n",
            "1/20 * Epoch (train):   2% 12/570 [00:07<05:28,  1.70it/s, accuracy01=0.312, loss=1.692]\u001b[A\u001b[A\n",
            "\n",
            "1/20 * Epoch (train):   2% 13/570 [00:07<05:26,  1.71it/s, accuracy01=0.312, loss=1.692]\u001b[A\u001b[A\n",
            "\n",
            "1/20 * Epoch (train):   2% 13/570 [00:08<05:26,  1.71it/s, accuracy01=0.375, loss=2.014]\u001b[A\u001b[A\n",
            "\n",
            "1/20 * Epoch (train):   2% 14/570 [00:08<05:25,  1.71it/s, accuracy01=0.375, loss=2.014]\u001b[A\u001b[A\n",
            "\n",
            "1/20 * Epoch (train):   2% 14/570 [00:08<05:25,  1.71it/s, accuracy01=0.438, loss=1.743]\u001b[A\u001b[A\n",
            "\n",
            "1/20 * Epoch (train):   3% 15/570 [00:08<05:24,  1.71it/s, accuracy01=0.438, loss=1.743]\u001b[A\u001b[A\n",
            "\n",
            "1/20 * Epoch (train):   3% 15/570 [00:09<05:24,  1.71it/s, accuracy01=0.188, loss=1.850]\u001b[A\u001b[A\n",
            "\n",
            "1/20 * Epoch (train):   3% 16/570 [00:09<05:24,  1.71it/s, accuracy01=0.188, loss=1.850]\u001b[A\u001b[A\n",
            "\n",
            "1/20 * Epoch (train):   3% 16/570 [00:10<05:24,  1.71it/s, accuracy01=0.375, loss=1.735]\u001b[A\u001b[A\n",
            "\n",
            "1/20 * Epoch (train):   3% 17/570 [00:10<05:23,  1.71it/s, accuracy01=0.375, loss=1.735]\u001b[A\u001b[A\n",
            "\n",
            "1/20 * Epoch (train):   3% 17/570 [00:10<05:23,  1.71it/s, accuracy01=0.375, loss=1.843]\u001b[A\u001b[A\n",
            "\n",
            "1/20 * Epoch (train):   3% 18/570 [00:10<05:22,  1.71it/s, accuracy01=0.375, loss=1.843]\u001b[A\u001b[A\n",
            "\n",
            "1/20 * Epoch (train):   3% 18/570 [00:11<05:22,  1.71it/s, accuracy01=0.375, loss=1.820]\u001b[A\u001b[A\n",
            "\n",
            "1/20 * Epoch (train):   3% 19/570 [00:11<05:21,  1.71it/s, accuracy01=0.375, loss=1.820]\u001b[A\u001b[A\n",
            "\n",
            "1/20 * Epoch (train):   3% 19/570 [00:11<05:21,  1.71it/s, accuracy01=0.375, loss=1.942]\u001b[A\u001b[A\n",
            "\n",
            "1/20 * Epoch (train):   4% 20/570 [00:11<05:21,  1.71it/s, accuracy01=0.375, loss=1.942]\u001b[A\u001b[A\n",
            "\n",
            "1/20 * Epoch (train):   4% 20/570 [00:12<05:21,  1.71it/s, accuracy01=0.312, loss=2.141]\u001b[A\u001b[A\n",
            "\n",
            "1/20 * Epoch (train):   4% 21/570 [00:12<05:21,  1.71it/s, accuracy01=0.312, loss=2.141]\u001b[A\u001b[A\n",
            "\n",
            "1/20 * Epoch (train):   4% 21/570 [00:13<05:21,  1.71it/s, accuracy01=0.500, loss=1.864]\u001b[A\u001b[A\n",
            "\n",
            "1/20 * Epoch (train):   4% 22/570 [00:13<05:21,  1.71it/s, accuracy01=0.500, loss=1.864]\u001b[A\u001b[A\n",
            "\n",
            "1/20 * Epoch (train):   4% 22/570 [00:13<05:21,  1.71it/s, accuracy01=0.312, loss=2.361]\u001b[A\u001b[A\n",
            "\n",
            "1/20 * Epoch (train):   4% 23/570 [00:13<05:20,  1.71it/s, accuracy01=0.312, loss=2.361]\u001b[A\u001b[A\n",
            "\n",
            "1/20 * Epoch (train):   4% 23/570 [00:14<05:20,  1.71it/s, accuracy01=0.375, loss=1.749]\u001b[A\u001b[A\n",
            "\n",
            "1/20 * Epoch (train):   4% 24/570 [00:14<05:19,  1.71it/s, accuracy01=0.375, loss=1.749]\u001b[A\u001b[A\n",
            "\n",
            "1/20 * Epoch (train):   4% 24/570 [00:14<05:19,  1.71it/s, accuracy01=0.438, loss=1.880]\u001b[A\u001b[A\n",
            "\n",
            "1/20 * Epoch (train):   4% 25/570 [00:14<05:18,  1.71it/s, accuracy01=0.438, loss=1.880]\u001b[A\u001b[A\n",
            "\n",
            "1/20 * Epoch (train):   4% 25/570 [00:15<05:18,  1.71it/s, accuracy01=0.062, loss=2.636]\u001b[A\u001b[A\n",
            "\n",
            "1/20 * Epoch (train):   5% 26/570 [00:15<05:18,  1.71it/s, accuracy01=0.062, loss=2.636]\u001b[A\u001b[A\n",
            "\n",
            "1/20 * Epoch (train):   5% 26/570 [00:15<05:18,  1.71it/s, accuracy01=0.438, loss=1.653]\u001b[A\u001b[A\n",
            "\n",
            "1/20 * Epoch (train):   5% 27/570 [00:15<05:17,  1.71it/s, accuracy01=0.438, loss=1.653]\u001b[A\u001b[A\n",
            "\n",
            "1/20 * Epoch (train):   5% 27/570 [00:16<05:17,  1.71it/s, accuracy01=0.500, loss=1.631]\u001b[A\u001b[A\n",
            "\n",
            "1/20 * Epoch (train):   5% 28/570 [00:16<05:17,  1.71it/s, accuracy01=0.500, loss=1.631]\u001b[A\u001b[A\n",
            "\n",
            "1/20 * Epoch (train):   5% 28/570 [00:17<05:17,  1.71it/s, accuracy01=0.375, loss=1.704]\u001b[A\u001b[A\n",
            "\n",
            "1/20 * Epoch (train):   5% 29/570 [00:17<05:17,  1.71it/s, accuracy01=0.375, loss=1.704]\u001b[A\u001b[A\n",
            "\n",
            "1/20 * Epoch (train):   5% 29/570 [00:17<05:17,  1.71it/s, accuracy01=0.500, loss=1.518]\u001b[A\u001b[A\n",
            "\n",
            "1/20 * Epoch (train):   5% 30/570 [00:17<05:15,  1.71it/s, accuracy01=0.500, loss=1.518]\u001b[A\u001b[A\n",
            "\n",
            "1/20 * Epoch (train):   5% 30/570 [00:18<05:15,  1.71it/s, accuracy01=0.375, loss=1.891]\u001b[A\u001b[A\n",
            "\n",
            "1/20 * Epoch (train):   5% 31/570 [00:18<05:14,  1.71it/s, accuracy01=0.375, loss=1.891]\u001b[A\u001b[A\n",
            "\n",
            "1/20 * Epoch (train):   5% 31/570 [00:18<05:14,  1.71it/s, accuracy01=0.438, loss=1.833]\u001b[A\u001b[A\n",
            "\n",
            "1/20 * Epoch (train):   6% 32/570 [00:18<05:14,  1.71it/s, accuracy01=0.438, loss=1.833]\u001b[A\u001b[A\n",
            "\n",
            "1/20 * Epoch (train):   6% 32/570 [00:19<05:14,  1.71it/s, accuracy01=0.125, loss=2.046]\u001b[A\u001b[A\n",
            "\n",
            "1/20 * Epoch (train):   6% 33/570 [00:19<05:15,  1.70it/s, accuracy01=0.125, loss=2.046]\u001b[A\u001b[A\n",
            "\n",
            "1/20 * Epoch (train):   6% 33/570 [00:20<05:15,  1.70it/s, accuracy01=0.375, loss=1.612]\u001b[A\u001b[A\n",
            "\n",
            "1/20 * Epoch (train):   6% 34/570 [00:20<05:14,  1.71it/s, accuracy01=0.375, loss=1.612]\u001b[A\u001b[A"
          ],
          "name": "stdout"
        }
      ]
    },
    {
      "cell_type": "code",
      "metadata": {
        "id": "w27_3cqQYQpW",
        "colab_type": "code",
        "colab": {}
      },
      "source": [
        "%tensorboard --logdir data/logs/1"
      ],
      "execution_count": 0,
      "outputs": []
    },
    {
      "cell_type": "code",
      "metadata": {
        "id": "-fWpJr89C15c",
        "colab_type": "code",
        "colab": {}
      },
      "source": [
        ""
      ],
      "execution_count": 0,
      "outputs": []
    }
  ]
}