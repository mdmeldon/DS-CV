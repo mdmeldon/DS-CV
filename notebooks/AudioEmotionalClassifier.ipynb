{
  "nbformat": 4,
  "nbformat_minor": 0,
  "metadata": {
    "language_info": {
      "codemirror_mode": {
        "name": "ipython",
        "version": 3
      },
      "file_extension": ".py",
      "mimetype": "text/x-python",
      "name": "python",
      "nbconvert_exporter": "python",
      "pygments_lexer": "ipython3",
      "version": "3.8.2-final"
    },
    "orig_nbformat": 2,
    "kernelspec": {
      "name": "python38264bitvenvvenv6e353e8b5b38496eb3699023619b2036",
      "display_name": "Python 3.8.2 64-bit ('venv': venv)"
    },
    "colab": {
      "name": "AudioEmotionalClassifier.ipynb",
      "provenance": []
    },
    "accelerator": "GPU"
  },
  "cells": [
    {
      "cell_type": "code",
      "metadata": {
        "id": "XaBIZYx2YfBB",
        "colab_type": "code",
        "colab": {
          "base_uri": "https://localhost:8080/",
          "height": 51
        },
        "outputId": "9b4534d3-140b-4d97-b895-5635e7823fa9"
      },
      "source": [
        "# 1. Tell Git about yourself:\n",
        "from getpass import getpass\n",
        "u = input('Username: ') # Git username\n",
        "p = getpass('Password: ') # Git password"
      ],
      "execution_count": 2,
      "outputs": [
        {
          "output_type": "stream",
          "text": [
            "Username: mdmeldon\n",
            "Password: ··········\n"
          ],
          "name": "stdout"
        }
      ]
    },
    {
      "cell_type": "code",
      "metadata": {
        "id": "TGuDbDbfYduo",
        "colab_type": "code",
        "colab": {
          "base_uri": "https://localhost:8080/",
          "height": 34
        },
        "outputId": "2875c78c-3d39-487f-fc7e-0b231b301faa"
      },
      "source": [
        "# 2. Initialize Git, then Pull the Branch:\n",
        "! git init\n",
        "! git remote add origin https://$u:$p@github.com/mdmeldon/DS-CV.git "
      ],
      "execution_count": 3,
      "outputs": [
        {
          "output_type": "stream",
          "text": [
            "Initialized empty Git repository in /content/.git/\n"
          ],
          "name": "stdout"
        }
      ]
    },
    {
      "cell_type": "code",
      "metadata": {
        "id": "LfaYjp3jat5g",
        "colab_type": "code",
        "colab": {
          "base_uri": "https://localhost:8080/",
          "height": 153
        },
        "outputId": "18cdc42e-bd5d-4558-d0a8-c3d856088242"
      },
      "source": [
        "! git pull origin master"
      ],
      "execution_count": 4,
      "outputs": [
        {
          "output_type": "stream",
          "text": [
            "remote: Enumerating objects: 71, done.\u001b[K\n",
            "remote: Counting objects:   1% (1/71)\u001b[K\rremote: Counting objects:   2% (2/71)\u001b[K\rremote: Counting objects:   4% (3/71)\u001b[K\rremote: Counting objects:   5% (4/71)\u001b[K\rremote: Counting objects:   7% (5/71)\u001b[K\rremote: Counting objects:   8% (6/71)\u001b[K\rremote: Counting objects:   9% (7/71)\u001b[K\rremote: Counting objects:  11% (8/71)\u001b[K\rremote: Counting objects:  12% (9/71)\u001b[K\rremote: Counting objects:  14% (10/71)\u001b[K\rremote: Counting objects:  15% (11/71)\u001b[K\rremote: Counting objects:  16% (12/71)\u001b[K\rremote: Counting objects:  18% (13/71)\u001b[K\rremote: Counting objects:  19% (14/71)\u001b[K\rremote: Counting objects:  21% (15/71)\u001b[K\rremote: Counting objects:  22% (16/71)\u001b[K\rremote: Counting objects:  23% (17/71)\u001b[K\rremote: Counting objects:  25% (18/71)\u001b[K\rremote: Counting objects:  26% (19/71)\u001b[K\rremote: Counting objects:  28% (20/71)\u001b[K\rremote: Counting objects:  29% (21/71)\u001b[K\rremote: Counting objects:  30% (22/71)\u001b[K\rremote: Counting objects:  32% (23/71)\u001b[K\rremote: Counting objects:  33% (24/71)\u001b[K\rremote: Counting objects:  35% (25/71)\u001b[K\rremote: Counting objects:  36% (26/71)\u001b[K\rremote: Counting objects:  38% (27/71)\u001b[K\rremote: Counting objects:  39% (28/71)\u001b[K\rremote: Counting objects:  40% (29/71)\u001b[K\rremote: Counting objects:  42% (30/71)\u001b[K\rremote: Counting objects:  43% (31/71)\u001b[K\rremote: Counting objects:  45% (32/71)\u001b[K\rremote: Counting objects:  46% (33/71)\u001b[K\rremote: Counting objects:  47% (34/71)\u001b[K\rremote: Counting objects:  49% (35/71)\u001b[K\rremote: Counting objects:  50% (36/71)\u001b[K\rremote: Counting objects:  52% (37/71)\u001b[K\rremote: Counting objects:  53% (38/71)\u001b[K\rremote: Counting objects:  54% (39/71)\u001b[K\rremote: Counting objects:  56% (40/71)\u001b[K\rremote: Counting objects:  57% (41/71)\u001b[K\rremote: Counting objects:  59% (42/71)\u001b[K\rremote: Counting objects:  60% (43/71)\u001b[K\rremote: Counting objects:  61% (44/71)\u001b[K\rremote: Counting objects:  63% (45/71)\u001b[K\rremote: Counting objects:  64% (46/71)\u001b[K\rremote: Counting objects:  66% (47/71)\u001b[K\rremote: Counting objects:  67% (48/71)\u001b[K\rremote: Counting objects:  69% (49/71)\u001b[K\rremote: Counting objects:  70% (50/71)\u001b[K\rremote: Counting objects:  71% (51/71)\u001b[K\rremote: Counting objects:  73% (52/71)\u001b[K\rremote: Counting objects:  74% (53/71)\u001b[K\rremote: Counting objects:  76% (54/71)\u001b[K\rremote: Counting objects:  77% (55/71)\u001b[K\rremote: Counting objects:  78% (56/71)\u001b[K\rremote: Counting objects:  80% (57/71)\u001b[K\rremote: Counting objects:  81% (58/71)\u001b[K\rremote: Counting objects:  83% (59/71)\u001b[K\rremote: Counting objects:  84% (60/71)\u001b[K\rremote: Counting objects:  85% (61/71)\u001b[K\rremote: Counting objects:  87% (62/71)\u001b[K\rremote: Counting objects:  88% (63/71)\u001b[K\rremote: Counting objects:  90% (64/71)\u001b[K\rremote: Counting objects:  91% (65/71)\u001b[K\rremote: Counting objects:  92% (66/71)\u001b[K\rremote: Counting objects:  94% (67/71)\u001b[K\rremote: Counting objects:  95% (68/71)\u001b[K\rremote: Counting objects:  97% (69/71)\u001b[K\rremote: Counting objects:  98% (70/71)\u001b[K\rremote: Counting objects: 100% (71/71)\u001b[K\rremote: Counting objects: 100% (71/71), done.\u001b[K\n",
            "remote: Compressing objects:   1% (1/57)\u001b[K\rremote: Compressing objects:   3% (2/57)\u001b[K\rremote: Compressing objects:   5% (3/57)\u001b[K\rremote: Compressing objects:   7% (4/57)\u001b[K\rremote: Compressing objects:   8% (5/57)\u001b[K\rremote: Compressing objects:  10% (6/57)\u001b[K\rremote: Compressing objects:  12% (7/57)\u001b[K\rremote: Compressing objects:  14% (8/57)\u001b[K\rremote: Compressing objects:  15% (9/57)\u001b[K\rremote: Compressing objects:  17% (10/57)\u001b[K\rremote: Compressing objects:  19% (11/57)\u001b[K\rremote: Compressing objects:  21% (12/57)\u001b[K\rremote: Compressing objects:  22% (13/57)\u001b[K\rremote: Compressing objects:  24% (14/57)\u001b[K\rremote: Compressing objects:  26% (15/57)\u001b[K\rremote: Compressing objects:  28% (16/57)\u001b[K\rremote: Compressing objects:  29% (17/57)\u001b[K\rremote: Compressing objects:  31% (18/57)\u001b[K\rremote: Compressing objects:  33% (19/57)\u001b[K\rremote: Compressing objects:  35% (20/57)\u001b[K\rremote: Compressing objects:  36% (21/57)\u001b[K\rremote: Compressing objects:  38% (22/57)\u001b[K\rremote: Compressing objects:  40% (23/57)\u001b[K\rremote: Compressing objects:  42% (24/57)\u001b[K\rremote: Compressing objects:  43% (25/57)\u001b[K\rremote: Compressing objects:  45% (26/57)\u001b[K\rremote: Compressing objects:  47% (27/57)\u001b[K\rremote: Compressing objects:  49% (28/57)\u001b[K\rremote: Compressing objects:  50% (29/57)\u001b[K\rremote: Compressing objects:  52% (30/57)\u001b[K\rremote: Compressing objects:  54% (31/57)\u001b[K\rremote: Compressing objects:  56% (32/57)\u001b[K\rremote: Compressing objects:  57% (33/57)\u001b[K\rremote: Compressing objects:  59% (34/57)\u001b[K\rremote: Compressing objects:  61% (35/57)\u001b[K\rremote: Compressing objects:  63% (36/57)\u001b[K\rremote: Compressing objects:  64% (37/57)\u001b[K\rremote: Compressing objects:  66% (38/57)\u001b[K\rremote: Compressing objects:  68% (39/57)\u001b[K\rremote: Compressing objects:  70% (40/57)\u001b[K\rremote: Compressing objects:  71% (41/57)\u001b[K\rremote: Compressing objects:  73% (42/57)\u001b[K\rremote: Compressing objects:  75% (43/57)\u001b[K\rremote: Compressing objects:  77% (44/57)\u001b[K\rremote: Compressing objects:  78% (45/57)\u001b[K\rremote: Compressing objects:  80% (46/57)\u001b[K\rremote: Compressing objects:  82% (47/57)\u001b[K\rremote: Compressing objects:  84% (48/57)\u001b[K\rremote: Compressing objects:  85% (49/57)\u001b[K\rremote: Compressing objects:  87% (50/57)\u001b[K\rremote: Compressing objects:  89% (51/57)\u001b[K\rremote: Compressing objects:  91% (52/57)\u001b[K\rremote: Compressing objects:  92% (53/57)\u001b[K\rremote: Compressing objects:  94% (54/57)\u001b[K\rremote: Compressing objects:  96% (55/57)\u001b[K\rremote: Compressing objects:  98% (56/57)\u001b[K\rremote: Compressing objects: 100% (57/57)\u001b[K\rremote: Compressing objects: 100% (57/57), done.\u001b[K\n",
            "remote: Total 71 (delta 8), reused 68 (delta 6), pack-reused 0\u001b[K\n",
            "Unpacking objects:   1% (1/71)   \rUnpacking objects:   2% (2/71)   \rUnpacking objects:   4% (3/71)   \rUnpacking objects:   5% (4/71)   \rUnpacking objects:   7% (5/71)   \rUnpacking objects:   8% (6/71)   \rUnpacking objects:   9% (7/71)   \rUnpacking objects:  11% (8/71)   \rUnpacking objects:  12% (9/71)   \rUnpacking objects:  14% (10/71)   \rUnpacking objects:  15% (11/71)   \rUnpacking objects:  16% (12/71)   \rUnpacking objects:  18% (13/71)   \rUnpacking objects:  19% (14/71)   \rUnpacking objects:  21% (15/71)   \rUnpacking objects:  22% (16/71)   \rUnpacking objects:  23% (17/71)   \rUnpacking objects:  25% (18/71)   \rUnpacking objects:  26% (19/71)   \rUnpacking objects:  28% (20/71)   \rUnpacking objects:  29% (21/71)   \rUnpacking objects:  30% (22/71)   \rUnpacking objects:  32% (23/71)   \rUnpacking objects:  33% (24/71)   \rUnpacking objects:  35% (25/71)   \rUnpacking objects:  36% (26/71)   \rUnpacking objects:  38% (27/71)   \rUnpacking objects:  39% (28/71)   \rUnpacking objects:  40% (29/71)   \rUnpacking objects:  42% (30/71)   \rUnpacking objects:  43% (31/71)   \rUnpacking objects:  45% (32/71)   \rUnpacking objects:  46% (33/71)   \rUnpacking objects:  47% (34/71)   \rUnpacking objects:  49% (35/71)   \rUnpacking objects:  50% (36/71)   \rUnpacking objects:  52% (37/71)   \rUnpacking objects:  53% (38/71)   \rUnpacking objects:  54% (39/71)   \rUnpacking objects:  56% (40/71)   \rUnpacking objects:  57% (41/71)   \rUnpacking objects:  59% (42/71)   \rUnpacking objects:  60% (43/71)   \rUnpacking objects:  61% (44/71)   \rUnpacking objects:  63% (45/71)   \rUnpacking objects:  64% (46/71)   \rUnpacking objects:  66% (47/71)   \rUnpacking objects:  67% (48/71)   \rUnpacking objects:  69% (49/71)   \rUnpacking objects:  70% (50/71)   \rUnpacking objects:  71% (51/71)   \rUnpacking objects:  73% (52/71)   \rUnpacking objects:  74% (53/71)   \rUnpacking objects:  76% (54/71)   \rUnpacking objects:  77% (55/71)   \rUnpacking objects:  78% (56/71)   \rUnpacking objects:  80% (57/71)   \rUnpacking objects:  81% (58/71)   \rUnpacking objects:  83% (59/71)   \rUnpacking objects:  84% (60/71)   \rUnpacking objects:  85% (61/71)   \rUnpacking objects:  87% (62/71)   \rUnpacking objects:  88% (63/71)   \rUnpacking objects:  90% (64/71)   \rUnpacking objects:  91% (65/71)   \rUnpacking objects:  92% (66/71)   \rUnpacking objects:  94% (67/71)   \rUnpacking objects:  95% (68/71)   \rUnpacking objects:  97% (69/71)   \rUnpacking objects:  98% (70/71)   \rUnpacking objects: 100% (71/71)   \rUnpacking objects: 100% (71/71), done.\n",
            "From https://github.com/mdmeldon/DS-CV\n",
            " * branch            master     -> FETCH_HEAD\n",
            " * [new branch]      master     -> origin/master\n"
          ],
          "name": "stdout"
        }
      ]
    },
    {
      "cell_type": "code",
      "metadata": {
        "id": "_MlCEhp5ZQDi",
        "colab_type": "code",
        "colab": {
          "base_uri": "https://localhost:8080/",
          "height": 1000
        },
        "outputId": "5b5cd59f-5c78-4891-fd7f-d5e456f647d2"
      },
      "source": [
        "# 3. Run helper:\n",
        "! sh colab.sh"
      ],
      "execution_count": 5,
      "outputs": [
        {
          "output_type": "stream",
          "text": [
            "Collecting dvc==0.93.0\n",
            "\u001b[?25l  Downloading https://files.pythonhosted.org/packages/1f/95/30391d897617a2029ce5a4451f397a44cf8a7428bf58854669fcf5b1c465/dvc-0.93.0-py2.py3-none-any.whl (332kB)\n",
            "\r\u001b[K     |█                               | 10kB 24.5MB/s eta 0:00:01\r\u001b[K     |██                              | 20kB 6.8MB/s eta 0:00:01\r\u001b[K     |███                             | 30kB 8.0MB/s eta 0:00:01\r\u001b[K     |████                            | 40kB 8.7MB/s eta 0:00:01\r\u001b[K     |█████                           | 51kB 7.9MB/s eta 0:00:01\r\u001b[K     |██████                          | 61kB 8.8MB/s eta 0:00:01\r\u001b[K     |███████                         | 71kB 8.9MB/s eta 0:00:01\r\u001b[K     |███████▉                        | 81kB 9.2MB/s eta 0:00:01\r\u001b[K     |████████▉                       | 92kB 8.5MB/s eta 0:00:01\r\u001b[K     |█████████▉                      | 102kB 8.8MB/s eta 0:00:01\r\u001b[K     |██████████▉                     | 112kB 8.8MB/s eta 0:00:01\r\u001b[K     |███████████▉                    | 122kB 8.8MB/s eta 0:00:01\r\u001b[K     |████████████▉                   | 133kB 8.8MB/s eta 0:00:01\r\u001b[K     |█████████████▉                  | 143kB 8.8MB/s eta 0:00:01\r\u001b[K     |██████████████▊                 | 153kB 8.8MB/s eta 0:00:01\r\u001b[K     |███████████████▊                | 163kB 8.8MB/s eta 0:00:01\r\u001b[K     |████████████████▊               | 174kB 8.8MB/s eta 0:00:01\r\u001b[K     |█████████████████▊              | 184kB 8.8MB/s eta 0:00:01\r\u001b[K     |██████████████████▊             | 194kB 8.8MB/s eta 0:00:01\r\u001b[K     |███████████████████▊            | 204kB 8.8MB/s eta 0:00:01\r\u001b[K     |████████████████████▊           | 215kB 8.8MB/s eta 0:00:01\r\u001b[K     |█████████████████████▊          | 225kB 8.8MB/s eta 0:00:01\r\u001b[K     |██████████████████████▋         | 235kB 8.8MB/s eta 0:00:01\r\u001b[K     |███████████████████████▋        | 245kB 8.8MB/s eta 0:00:01\r\u001b[K     |████████████████████████▋       | 256kB 8.8MB/s eta 0:00:01\r\u001b[K     |█████████████████████████▋      | 266kB 8.8MB/s eta 0:00:01\r\u001b[K     |██████████████████████████▋     | 276kB 8.8MB/s eta 0:00:01\r\u001b[K     |███████████████████████████▋    | 286kB 8.8MB/s eta 0:00:01\r\u001b[K     |████████████████████████████▋   | 296kB 8.8MB/s eta 0:00:01\r\u001b[K     |█████████████████████████████▌  | 307kB 8.8MB/s eta 0:00:01\r\u001b[K     |██████████████████████████████▌ | 317kB 8.8MB/s eta 0:00:01\r\u001b[K     |███████████████████████████████▌| 327kB 8.8MB/s eta 0:00:01\r\u001b[K     |████████████████████████████████| 337kB 8.8MB/s \n",
            "\u001b[?25hCollecting pydrive2==1.4.9\n",
            "  Downloading https://files.pythonhosted.org/packages/cb/fe/d4e8085f898cccee1c545ea198139bd58a4e8fe597d2c64540c954561618/PyDrive2-1.4.9-py2.py3-none-any.whl\n",
            "Collecting catalyst==20.4.1\n",
            "\u001b[?25l  Downloading https://files.pythonhosted.org/packages/32/cb/10860c15a9226728f14a5243e99e8399c6a5735b29f465bc91f3a2a29d34/catalyst-20.4.1-py2.py3-none-any.whl (326kB)\n",
            "\u001b[K     |████████████████████████████████| 327kB 21.5MB/s \n",
            "\u001b[?25hCollecting alchemy==20.4\n",
            "  Downloading https://files.pythonhosted.org/packages/e1/d0/29085429e2f6203ee206a4aa93cb20cdafbdc2aa649d7b20de24eeb7fb69/alchemy-20.4-py2.py3-none-any.whl\n",
            "Collecting voluptuous>=0.11.7\n",
            "\u001b[?25l  Downloading https://files.pythonhosted.org/packages/24/3b/fe531688c0d9e057fccc0bc9430c0a3d4b90e0d2f015326e659c2944e328/voluptuous-0.11.7.tar.gz (45kB)\n",
            "\u001b[K     |████████████████████████████████| 51kB 8.6MB/s \n",
            "\u001b[?25hRequirement already satisfied: pyasn1>=0.4.1 in /usr/local/lib/python3.6/dist-packages (from dvc==0.93.0) (0.4.8)\n",
            "Collecting jsonpath-ng>=1.5.1\n",
            "  Downloading https://files.pythonhosted.org/packages/85/24/981fa76e1e415bcceb3a9741d5be04b32c10edd42d88f6783faa750b1239/jsonpath-ng-1.5.1.tar.gz\n",
            "Collecting flufl.lock>=3.2\n",
            "  Downloading https://files.pythonhosted.org/packages/1e/68/393c148df629f90a919de653ebb967a8bd8c83d07d2bc3150ca0faff3940/flufl.lock-3.2.tar.gz\n",
            "Requirement already satisfied: packaging>=19.0 in /usr/local/lib/python3.6/dist-packages (from dvc==0.93.0) (20.4)\n",
            "Collecting grandalf==0.6\n",
            "  Downloading https://files.pythonhosted.org/packages/54/f4/a0b6a4c6d616d0a838b2dd0bc7bf74d73e8e8cdc880bab7fdb5fdc3d0e06/grandalf-0.6-py3-none-any.whl\n",
            "Collecting texttable>=0.5.2\n",
            "  Downloading https://files.pythonhosted.org/packages/ec/b1/8a1c659ce288bf771d5b1c7cae318ada466f73bd0e16df8d86f27a2a3ee7/texttable-1.6.2-py2.py3-none-any.whl\n",
            "Collecting pathspec>=0.6.0\n",
            "  Downloading https://files.pythonhosted.org/packages/5d/d0/887c58853bd4b6ffc7aa9cdba4fc57d7b979b45888a6bd47e4568e1cf868/pathspec-0.8.0-py2.py3-none-any.whl\n",
            "Collecting distro>=1.3.0\n",
            "  Downloading https://files.pythonhosted.org/packages/25/b7/b3c4270a11414cb22c6352ebc7a83aaa3712043be29daa05018fd5a5c956/distro-1.5.0-py2.py3-none-any.whl\n",
            "Collecting pygtrie==2.3.2\n",
            "  Downloading https://files.pythonhosted.org/packages/18/41/2e5cefc895a32d9ca0f3574bd0df09e53a697023579a93582bedc4eeac4d/pygtrie-2.3.2.tar.gz\n",
            "Collecting PyYAML<5.4,>=5.1.2\n",
            "\u001b[?25l  Downloading https://files.pythonhosted.org/packages/64/c2/b80047c7ac2478f9501676c988a5411ed5572f35d1beff9cae07d321512c/PyYAML-5.3.1.tar.gz (269kB)\n",
            "\u001b[K     |████████████████████████████████| 276kB 26.6MB/s \n",
            "\u001b[?25hRequirement already satisfied: setuptools>=34.0.0 in /usr/local/lib/python3.6/dist-packages (from dvc==0.93.0) (46.4.0)\n",
            "Collecting gitpython>3\n",
            "\u001b[?25l  Downloading https://files.pythonhosted.org/packages/44/33/917e6fde1cad13daa7053f39b7c8af3be287314f75f1b1ea8d3fe37a8571/GitPython-3.1.2-py3-none-any.whl (451kB)\n",
            "\u001b[K     |████████████████████████████████| 460kB 15.3MB/s \n",
            "\u001b[?25hCollecting appdirs>=1.4.3\n",
            "  Downloading https://files.pythonhosted.org/packages/3b/00/2344469e2084fb287c2e0b57b72910309874c3245463acd6cf5e3db69324/appdirs-1.4.4-py2.py3-none-any.whl\n",
            "Collecting flatten-json>=0.1.6\n",
            "  Downloading https://files.pythonhosted.org/packages/eb/a9/1e35abfc4726065f9692decb3c57cf379e5d5329befc6fa5a1ab835fffb8/flatten_json-0.1.7-py3-none-any.whl\n",
            "Collecting ply>=3.9\n",
            "\u001b[?25l  Downloading https://files.pythonhosted.org/packages/a3/58/35da89ee790598a0700ea49b2a66594140f44dec458c07e8e3d4979137fc/ply-3.11-py2.py3-none-any.whl (49kB)\n",
            "\u001b[K     |████████████████████████████████| 51kB 8.3MB/s \n",
            "\u001b[?25hCollecting tqdm<5,>=4.45.0\n",
            "\u001b[?25l  Downloading https://files.pythonhosted.org/packages/c9/40/058b12e8ba10e35f89c9b1fdfc2d4c7f8c05947df2d5eb3c7b258019fda0/tqdm-4.46.0-py2.py3-none-any.whl (63kB)\n",
            "\u001b[K     |████████████████████████████████| 71kB 11.2MB/s \n",
            "\u001b[?25hCollecting funcy>=1.14\n",
            "\u001b[?25l  Downloading https://files.pythonhosted.org/packages/ce/4b/6ffa76544e46614123de31574ad95758c421aae391a1764921b8a81e1eae/funcy-1.14.tar.gz (548kB)\n",
            "\u001b[K     |████████████████████████████████| 552kB 41.4MB/s \n",
            "\u001b[?25hCollecting colorama>=0.3.9\n",
            "  Downloading https://files.pythonhosted.org/packages/c9/dc/45cdef1b4d119eb96316b3117e6d5708a08029992b2fee2c143c7a0a5cc5/colorama-0.4.3-py2.py3-none-any.whl\n",
            "Requirement already satisfied: humanize>=0.5.1 in /usr/local/lib/python3.6/dist-packages (from dvc==0.93.0) (0.5.1)\n",
            "Requirement already satisfied: requests>=2.22.0 in /usr/local/lib/python3.6/dist-packages (from dvc==0.93.0) (2.23.0)\n",
            "Collecting configobj>=5.0.6\n",
            "  Downloading https://files.pythonhosted.org/packages/64/61/079eb60459c44929e684fa7d9e2fdca403f67d64dd9dbac27296be2e0fab/configobj-5.0.6.tar.gz\n",
            "Collecting nanotime>=0.5.2\n",
            "  Downloading https://files.pythonhosted.org/packages/d5/54/6d5924f59cf671326e7809f4b3f70fa8df535d67e952ad0b6fea02f52faf/nanotime-0.5.2.tar.gz\n",
            "Collecting shortuuid>=0.5.0\n",
            "  Downloading https://files.pythonhosted.org/packages/25/a6/2ecc1daa6a304e7f1b216f0896b26156b78e7c38e1211e9b798b4716c53d/shortuuid-1.0.1-py3-none-any.whl\n",
            "Collecting zc.lockfile>=1.2.1\n",
            "  Downloading https://files.pythonhosted.org/packages/6c/2a/268389776288f0f26c7272c70c36c96dcc0bdb88ab6216ea18e19df1fadd/zc.lockfile-2.0-py2.py3-none-any.whl\n",
            "Collecting dpath<3,>=2.0.1\n",
            "  Downloading https://files.pythonhosted.org/packages/60/3f/562b045ad2542ab1279bbc5a05a62511c1ea1d8b5987fb0a50ee78704621/dpath-2.0.1.tar.gz\n",
            "Collecting python-dateutil<2.8.1,>=2.1\n",
            "\u001b[?25l  Downloading https://files.pythonhosted.org/packages/41/17/c62faccbfbd163c7f57f3844689e3a78bae1f403648a6afb1d0866d87fbb/python_dateutil-2.8.0-py2.py3-none-any.whl (226kB)\n",
            "\u001b[K     |████████████████████████████████| 235kB 52.0MB/s \n",
            "\u001b[?25hRequirement already satisfied: pydot>=1.2.4 in /usr/local/lib/python3.6/dist-packages (from dvc==0.93.0) (1.3.0)\n",
            "Collecting treelib>=1.5.5\n",
            "  Downloading https://files.pythonhosted.org/packages/04/b0/2269c328abffbb63979f7143351a24a066776b87526d79956aea5018b80a/treelib-1.6.1.tar.gz\n",
            "Collecting networkx<2.4,>=2.1\n",
            "\u001b[?25l  Downloading https://files.pythonhosted.org/packages/85/08/f20aef11d4c343b557e5de6b9548761811eb16e438cee3d32b1c66c8566b/networkx-2.3.zip (1.7MB)\n",
            "\u001b[K     |████████████████████████████████| 1.8MB 52.7MB/s \n",
            "\u001b[?25hCollecting ruamel.yaml>=0.16.1\n",
            "\u001b[?25l  Downloading https://files.pythonhosted.org/packages/a6/92/59af3e38227b9cc14520bf1e59516d99ceca53e3b8448094248171e9432b/ruamel.yaml-0.16.10-py2.py3-none-any.whl (111kB)\n",
            "\u001b[K     |████████████████████████████████| 112kB 52.1MB/s \n",
            "\u001b[?25hRequirement already satisfied: inflect<4,>=2.1.0 in /usr/local/lib/python3.6/dist-packages (from dvc==0.93.0) (2.1.0)\n",
            "Requirement already satisfied: oauth2client>=4.0.0 in /usr/local/lib/python3.6/dist-packages (from pydrive2==1.4.9) (4.1.3)\n",
            "Requirement already satisfied: google-api-python-client>=1.7.12 in /usr/local/lib/python3.6/dist-packages (from pydrive2==1.4.9) (1.7.12)\n",
            "Collecting pyOpenSSL>=19.1.0\n",
            "\u001b[?25l  Downloading https://files.pythonhosted.org/packages/9e/de/f8342b68fa9e981d348039954657bdf681b2ab93de27443be51865ffa310/pyOpenSSL-19.1.0-py2.py3-none-any.whl (53kB)\n",
            "\u001b[K     |████████████████████████████████| 61kB 9.6MB/s \n",
            "\u001b[?25hRequirement already satisfied: numpy>=1.16.4 in /usr/local/lib/python3.6/dist-packages (from catalyst==20.4.1) (1.18.4)\n",
            "Requirement already satisfied: plotly>=4.1.0 in /usr/local/lib/python3.6/dist-packages (from catalyst==20.4.1) (4.4.1)\n",
            "Requirement already satisfied: ipython in /usr/local/lib/python3.6/dist-packages (from catalyst==20.4.1) (5.5.0)\n",
            "Requirement already satisfied: pandas>=0.22 in /usr/local/lib/python3.6/dist-packages (from catalyst==20.4.1) (1.0.3)\n",
            "Requirement already satisfied: tensorboard>=1.14.0 in /usr/local/lib/python3.6/dist-packages (from catalyst==20.4.1) (2.2.1)\n",
            "Requirement already satisfied: scikit-learn>=0.20 in /usr/local/lib/python3.6/dist-packages (from catalyst==20.4.1) (0.22.2.post1)\n",
            "Collecting Pillow<7\n",
            "\u001b[?25l  Downloading https://files.pythonhosted.org/packages/8a/fd/bbbc569f98f47813c50a116b539d97b3b17a86ac7a309f83b2022d26caf2/Pillow-6.2.2-cp36-cp36m-manylinux1_x86_64.whl (2.1MB)\n",
            "\u001b[K     |████████████████████████████████| 2.1MB 50.6MB/s \n",
            "\u001b[?25hRequirement already satisfied: opencv-python in /usr/local/lib/python3.6/dist-packages (from catalyst==20.4.1) (4.1.2.30)\n",
            "Requirement already satisfied: scikit-image>=0.14.2 in /usr/local/lib/python3.6/dist-packages (from catalyst==20.4.1) (0.16.2)\n",
            "Requirement already satisfied: torch>=1.0.0 in /usr/local/lib/python3.6/dist-packages (from catalyst==20.4.1) (1.5.0+cu101)\n",
            "Requirement already satisfied: imageio in /usr/local/lib/python3.6/dist-packages (from catalyst==20.4.1) (2.4.1)\n",
            "Requirement already satisfied: matplotlib in /usr/local/lib/python3.6/dist-packages (from catalyst==20.4.1) (3.2.1)\n",
            "Collecting crc32c>=1.7\n",
            "  Downloading https://files.pythonhosted.org/packages/ab/82/f60248c01a8a23ae07bd4c43d78d69b20ffe324311db3b0785e391aa09d2/crc32c-2.0-cp36-cp36m-manylinux1_x86_64.whl\n",
            "Collecting deprecation\n",
            "  Downloading https://files.pythonhosted.org/packages/02/c3/253a89ee03fc9b9682f1541728eb66db7db22148cd94f89ab22528cd1e1b/deprecation-2.1.0-py2.py3-none-any.whl\n",
            "Collecting tensorboardX\n",
            "\u001b[?25l  Downloading https://files.pythonhosted.org/packages/35/f1/5843425495765c8c2dd0784a851a93ef204d314fc87bcc2bbb9f662a3ad1/tensorboardX-2.0-py2.py3-none-any.whl (195kB)\n",
            "\u001b[K     |████████████████████████████████| 204kB 53.4MB/s \n",
            "\u001b[?25hRequirement already satisfied: torchvision>=0.2.1 in /usr/local/lib/python3.6/dist-packages (from catalyst==20.4.1) (0.6.0+cu101)\n",
            "Requirement already satisfied: seaborn in /usr/local/lib/python3.6/dist-packages (from catalyst==20.4.1) (0.10.1)\n",
            "Requirement already satisfied: decorator in /usr/local/lib/python3.6/dist-packages (from jsonpath-ng>=1.5.1->dvc==0.93.0) (4.4.2)\n",
            "Requirement already satisfied: six in /usr/local/lib/python3.6/dist-packages (from jsonpath-ng>=1.5.1->dvc==0.93.0) (1.12.0)\n",
            "Collecting atpublic\n",
            "  Downloading https://files.pythonhosted.org/packages/1d/71/125eefdde54cf640eb2c22f868158fb0595fce1512c6c51201b105c44e63/atpublic-1.0.tar.gz\n",
            "Requirement already satisfied: pyparsing>=2.0.2 in /usr/local/lib/python3.6/dist-packages (from packaging>=19.0->dvc==0.93.0) (2.4.7)\n",
            "Requirement already satisfied: future in /usr/local/lib/python3.6/dist-packages (from grandalf==0.6->dvc==0.93.0) (0.16.0)\n",
            "Collecting gitdb<5,>=4.0.1\n",
            "\u001b[?25l  Downloading https://files.pythonhosted.org/packages/48/11/d1800bca0a3bae820b84b7d813ad1eff15a48a64caea9c823fc8c1b119e8/gitdb-4.0.5-py3-none-any.whl (63kB)\n",
            "\u001b[K     |████████████████████████████████| 71kB 11.3MB/s \n",
            "\u001b[?25hRequirement already satisfied: chardet<4,>=3.0.2 in /usr/local/lib/python3.6/dist-packages (from requests>=2.22.0->dvc==0.93.0) (3.0.4)\n",
            "Requirement already satisfied: certifi>=2017.4.17 in /usr/local/lib/python3.6/dist-packages (from requests>=2.22.0->dvc==0.93.0) (2020.4.5.1)\n",
            "Requirement already satisfied: idna<3,>=2.5 in /usr/local/lib/python3.6/dist-packages (from requests>=2.22.0->dvc==0.93.0) (2.9)\n",
            "Requirement already satisfied: urllib3!=1.25.0,!=1.25.1,<1.26,>=1.21.1 in /usr/local/lib/python3.6/dist-packages (from requests>=2.22.0->dvc==0.93.0) (1.24.3)\n",
            "Collecting ruamel.yaml.clib>=0.1.2; platform_python_implementation == \"CPython\" and python_version < \"3.9\"\n",
            "\u001b[?25l  Downloading https://files.pythonhosted.org/packages/53/77/4bcd63f362bcb6c8f4f06253c11f9772f64189bf08cf3f40c5ccbda9e561/ruamel.yaml.clib-0.2.0-cp36-cp36m-manylinux1_x86_64.whl (548kB)\n",
            "\u001b[K     |████████████████████████████████| 552kB 56.8MB/s \n",
            "\u001b[?25hRequirement already satisfied: httplib2>=0.9.1 in /usr/local/lib/python3.6/dist-packages (from oauth2client>=4.0.0->pydrive2==1.4.9) (0.17.3)\n",
            "Requirement already satisfied: rsa>=3.1.4 in /usr/local/lib/python3.6/dist-packages (from oauth2client>=4.0.0->pydrive2==1.4.9) (4.0)\n",
            "Requirement already satisfied: pyasn1-modules>=0.0.5 in /usr/local/lib/python3.6/dist-packages (from oauth2client>=4.0.0->pydrive2==1.4.9) (0.2.8)\n",
            "Requirement already satisfied: google-auth-httplib2>=0.0.3 in /usr/local/lib/python3.6/dist-packages (from google-api-python-client>=1.7.12->pydrive2==1.4.9) (0.0.3)\n",
            "Requirement already satisfied: uritemplate<4dev,>=3.0.0 in /usr/local/lib/python3.6/dist-packages (from google-api-python-client>=1.7.12->pydrive2==1.4.9) (3.0.1)\n",
            "Requirement already satisfied: google-auth>=1.4.1 in /usr/local/lib/python3.6/dist-packages (from google-api-python-client>=1.7.12->pydrive2==1.4.9) (1.7.2)\n",
            "Collecting cryptography>=2.8\n",
            "\u001b[?25l  Downloading https://files.pythonhosted.org/packages/3c/04/686efee2dcdd25aecf357992e7d9362f443eb182ecd623f882bc9f7a6bba/cryptography-2.9.2-cp35-abi3-manylinux2010_x86_64.whl (2.7MB)\n",
            "\u001b[K     |████████████████████████████████| 2.7MB 54.6MB/s \n",
            "\u001b[?25hRequirement already satisfied: retrying>=1.3.3 in /usr/local/lib/python3.6/dist-packages (from plotly>=4.1.0->catalyst==20.4.1) (1.3.3)\n",
            "Requirement already satisfied: traitlets>=4.2 in /usr/local/lib/python3.6/dist-packages (from ipython->catalyst==20.4.1) (4.3.3)\n",
            "Requirement already satisfied: simplegeneric>0.8 in /usr/local/lib/python3.6/dist-packages (from ipython->catalyst==20.4.1) (0.8.1)\n",
            "Requirement already satisfied: pygments in /usr/local/lib/python3.6/dist-packages (from ipython->catalyst==20.4.1) (2.1.3)\n",
            "Requirement already satisfied: pickleshare in /usr/local/lib/python3.6/dist-packages (from ipython->catalyst==20.4.1) (0.7.5)\n",
            "Requirement already satisfied: pexpect; sys_platform != \"win32\" in /usr/local/lib/python3.6/dist-packages (from ipython->catalyst==20.4.1) (4.8.0)\n",
            "Requirement already satisfied: prompt-toolkit<2.0.0,>=1.0.4 in /usr/local/lib/python3.6/dist-packages (from ipython->catalyst==20.4.1) (1.0.18)\n",
            "Requirement already satisfied: pytz>=2017.2 in /usr/local/lib/python3.6/dist-packages (from pandas>=0.22->catalyst==20.4.1) (2018.9)\n",
            "Requirement already satisfied: wheel>=0.26; python_version >= \"3\" in /usr/local/lib/python3.6/dist-packages (from tensorboard>=1.14.0->catalyst==20.4.1) (0.34.2)\n",
            "Requirement already satisfied: tensorboard-plugin-wit>=1.6.0 in /usr/local/lib/python3.6/dist-packages (from tensorboard>=1.14.0->catalyst==20.4.1) (1.6.0.post3)\n",
            "Requirement already satisfied: absl-py>=0.4 in /usr/local/lib/python3.6/dist-packages (from tensorboard>=1.14.0->catalyst==20.4.1) (0.9.0)\n",
            "Requirement already satisfied: google-auth-oauthlib<0.5,>=0.4.1 in /usr/local/lib/python3.6/dist-packages (from tensorboard>=1.14.0->catalyst==20.4.1) (0.4.1)\n",
            "Requirement already satisfied: werkzeug>=0.11.15 in /usr/local/lib/python3.6/dist-packages (from tensorboard>=1.14.0->catalyst==20.4.1) (1.0.1)\n",
            "Requirement already satisfied: markdown>=2.6.8 in /usr/local/lib/python3.6/dist-packages (from tensorboard>=1.14.0->catalyst==20.4.1) (3.2.2)\n",
            "Requirement already satisfied: protobuf>=3.6.0 in /usr/local/lib/python3.6/dist-packages (from tensorboard>=1.14.0->catalyst==20.4.1) (3.10.0)\n",
            "Requirement already satisfied: grpcio>=1.24.3 in /usr/local/lib/python3.6/dist-packages (from tensorboard>=1.14.0->catalyst==20.4.1) (1.29.0)\n",
            "Requirement already satisfied: scipy>=0.17.0 in /usr/local/lib/python3.6/dist-packages (from scikit-learn>=0.20->catalyst==20.4.1) (1.4.1)\n",
            "Requirement already satisfied: joblib>=0.11 in /usr/local/lib/python3.6/dist-packages (from scikit-learn>=0.20->catalyst==20.4.1) (0.15.1)\n",
            "Requirement already satisfied: PyWavelets>=0.4.0 in /usr/local/lib/python3.6/dist-packages (from scikit-image>=0.14.2->catalyst==20.4.1) (1.1.1)\n",
            "Requirement already satisfied: kiwisolver>=1.0.1 in /usr/local/lib/python3.6/dist-packages (from matplotlib->catalyst==20.4.1) (1.2.0)\n",
            "Requirement already satisfied: cycler>=0.10 in /usr/local/lib/python3.6/dist-packages (from matplotlib->catalyst==20.4.1) (0.10.0)\n",
            "Collecting smmap<4,>=3.0.1\n",
            "  Downloading https://files.pythonhosted.org/packages/b0/9a/4d409a6234eb940e6a78dfdfc66156e7522262f5f2fecca07dc55915952d/smmap-3.0.4-py2.py3-none-any.whl\n",
            "Requirement already satisfied: cachetools<3.2,>=2.0.0 in /usr/local/lib/python3.6/dist-packages (from google-auth>=1.4.1->google-api-python-client>=1.7.12->pydrive2==1.4.9) (3.1.1)\n",
            "Requirement already satisfied: cffi!=1.11.3,>=1.8 in /usr/local/lib/python3.6/dist-packages (from cryptography>=2.8->pyOpenSSL>=19.1.0->pydrive2==1.4.9) (1.14.0)\n",
            "Requirement already satisfied: ipython-genutils in /usr/local/lib/python3.6/dist-packages (from traitlets>=4.2->ipython->catalyst==20.4.1) (0.2.0)\n",
            "Requirement already satisfied: ptyprocess>=0.5 in /usr/local/lib/python3.6/dist-packages (from pexpect; sys_platform != \"win32\"->ipython->catalyst==20.4.1) (0.6.0)\n",
            "Requirement already satisfied: wcwidth in /usr/local/lib/python3.6/dist-packages (from prompt-toolkit<2.0.0,>=1.0.4->ipython->catalyst==20.4.1) (0.1.9)\n",
            "Requirement already satisfied: requests-oauthlib>=0.7.0 in /usr/local/lib/python3.6/dist-packages (from google-auth-oauthlib<0.5,>=0.4.1->tensorboard>=1.14.0->catalyst==20.4.1) (1.3.0)\n",
            "Requirement already satisfied: importlib-metadata; python_version < \"3.8\" in /usr/local/lib/python3.6/dist-packages (from markdown>=2.6.8->tensorboard>=1.14.0->catalyst==20.4.1) (1.6.0)\n",
            "Requirement already satisfied: pycparser in /usr/local/lib/python3.6/dist-packages (from cffi!=1.11.3,>=1.8->cryptography>=2.8->pyOpenSSL>=19.1.0->pydrive2==1.4.9) (2.20)\n",
            "Requirement already satisfied: oauthlib>=3.0.0 in /usr/local/lib/python3.6/dist-packages (from requests-oauthlib>=0.7.0->google-auth-oauthlib<0.5,>=0.4.1->tensorboard>=1.14.0->catalyst==20.4.1) (3.1.0)\n",
            "Requirement already satisfied: zipp>=0.5 in /usr/local/lib/python3.6/dist-packages (from importlib-metadata; python_version < \"3.8\"->markdown>=2.6.8->tensorboard>=1.14.0->catalyst==20.4.1) (3.1.0)\n",
            "Building wheels for collected packages: voluptuous, jsonpath-ng, flufl.lock, pygtrie, PyYAML, funcy, configobj, nanotime, dpath, treelib, networkx, atpublic\n",
            "  Building wheel for voluptuous (setup.py) ... \u001b[?25l\u001b[?25hdone\n",
            "  Created wheel for voluptuous: filename=voluptuous-0.11.7-cp36-none-any.whl size=28749 sha256=c3dd5fdb599f40d45d9a37be3422f65c58ffc51614d10ce22e9ac114688b7614\n",
            "  Stored in directory: /root/.cache/pip/wheels/e8/e3/d0/a2d476b9cd09b8f5979789e0aaf07119726a3cfb19ee67aa1e\n",
            "  Building wheel for jsonpath-ng (setup.py) ... \u001b[?25l\u001b[?25hdone\n",
            "  Created wheel for jsonpath-ng: filename=jsonpath_ng-1.5.1-cp36-none-any.whl size=23919 sha256=9c43aded048862115c5768e843489951948e9a799323eafa1844327ee8f92c88\n",
            "  Stored in directory: /root/.cache/pip/wheels/22/e6/94/298d44da8cc99fca216343afc8d877348146d583beac99ec49\n",
            "  Building wheel for flufl.lock (setup.py) ... \u001b[?25l\u001b[?25hdone\n",
            "  Created wheel for flufl.lock: filename=flufl.lock-3.2-cp36-none-any.whl size=19930 sha256=d283da00fde7eb22ce35e9dd475285078dcc005e8c867dc5c56ad1e10ef64b7a\n",
            "  Stored in directory: /root/.cache/pip/wheels/4f/51/d7/f65a7b7f37da7594f7021b122fe677187667ad21f1171d2514\n",
            "  Building wheel for pygtrie (setup.py) ... \u001b[?25l\u001b[?25hdone\n",
            "  Created wheel for pygtrie: filename=pygtrie-2.3.2-cp36-none-any.whl size=18867 sha256=b5cfd9181eff25220a516084f354c544b1aa3a2a4a6416c058530ae723ea0aa3\n",
            "  Stored in directory: /root/.cache/pip/wheels/1c/10/3c/2d28c8ac56cda265d0c16ca129f50e5c3526f49a7fbe224cd9\n",
            "  Building wheel for PyYAML (setup.py) ... \u001b[?25l\u001b[?25hdone\n",
            "  Created wheel for PyYAML: filename=PyYAML-5.3.1-cp36-cp36m-linux_x86_64.whl size=44621 sha256=cb1ba8c581226f386d20d1fd82be7b78bd7227a899a076969066db9b46838108\n",
            "  Stored in directory: /root/.cache/pip/wheels/a7/c1/ea/cf5bd31012e735dc1dfea3131a2d5eae7978b251083d6247bd\n",
            "  Building wheel for funcy (setup.py) ... \u001b[?25l\u001b[?25hdone\n",
            "  Created wheel for funcy: filename=funcy-1.14-py2.py3-none-any.whl size=32042 sha256=89e2a6b9607eabab7944abe435012e1d168c44e86286ba805e8d2c957ea7db47\n",
            "  Stored in directory: /root/.cache/pip/wheels/20/5a/d8/1d875df03deae6f178dfdf70238cca33f948ef8a6f5209f2eb\n",
            "  Building wheel for configobj (setup.py) ... \u001b[?25l\u001b[?25hdone\n",
            "  Created wheel for configobj: filename=configobj-5.0.6-cp36-none-any.whl size=34546 sha256=c8d6f006f56b6b0f6cc81a5e9c328f7806c1d8ed23f451eaf80ab271ea0c0f02\n",
            "  Stored in directory: /root/.cache/pip/wheels/f1/e4/16/4981ca97c2d65106b49861e0b35e2660695be7219a2d351ee0\n",
            "  Building wheel for nanotime (setup.py) ... \u001b[?25l\u001b[?25hdone\n",
            "  Created wheel for nanotime: filename=nanotime-0.5.2-cp36-none-any.whl size=2442 sha256=83e38e9b4692fc3c5ca1f60175d084451dd1d49e8a74924d45a7de7f9508ef0e\n",
            "  Stored in directory: /root/.cache/pip/wheels/41/99/17/7135f635215e1f61e906295afd11f4f791cfe4ab45f3bfdca2\n",
            "  Building wheel for dpath (setup.py) ... \u001b[?25l\u001b[?25hdone\n",
            "  Created wheel for dpath: filename=dpath-2.0.1-cp36-none-any.whl size=15139 sha256=cd1229c5e9f87e682d26ede727d963c9fabf6cb33c09c451397dbf434acd1dca\n",
            "  Stored in directory: /root/.cache/pip/wheels/84/0b/f5/0c40bd93ea28c6dd6a302f2861adc330e9cf3fe99ebfefe797\n",
            "  Building wheel for treelib (setup.py) ... \u001b[?25l\u001b[?25hdone\n",
            "  Created wheel for treelib: filename=treelib-1.6.1-cp36-none-any.whl size=18370 sha256=43089bf3c1d95fddcf661becb75538afe622a5c8c4660d62f37c257fedb630c8\n",
            "  Stored in directory: /root/.cache/pip/wheels/68/1d/92/c50ec52951ccebafb40f3b8f0beb28fbaf745431c14a17c497\n",
            "  Building wheel for networkx (setup.py) ... \u001b[?25l\u001b[?25hdone\n",
            "  Created wheel for networkx: filename=networkx-2.3-py2.py3-none-any.whl size=1556408 sha256=32afc5399980c1062888f078f8161115711f741e6fb895ebdbe282bab7fcbe40\n",
            "  Stored in directory: /root/.cache/pip/wheels/de/63/64/3699be2a9d0ccdb37c7f16329acf3863fd76eda58c39c737af\n",
            "  Building wheel for atpublic (setup.py) ... \u001b[?25l\u001b[?25hdone\n",
            "  Created wheel for atpublic: filename=atpublic-1.0-cp36-none-any.whl size=4505 sha256=2ebccc570b08869ee22f52c913da819977714d64c879a8d408e434d81b84911f\n",
            "  Stored in directory: /root/.cache/pip/wheels/e1/26/5d/fb4b06bb9bb028e49b117b9bdb93c9875e751ff52f6b08aa27\n",
            "Successfully built voluptuous jsonpath-ng flufl.lock pygtrie PyYAML funcy configobj nanotime dpath treelib networkx atpublic\n",
            "\u001b[31mERROR: albumentations 0.1.12 has requirement imgaug<0.2.7,>=0.2.5, but you'll have imgaug 0.2.9 which is incompatible.\u001b[0m\n",
            "\u001b[31mERROR: alchemy 20.4 has requirement requests==2.22.0, but you'll have requests 2.23.0 which is incompatible.\u001b[0m\n",
            "Installing collected packages: voluptuous, ply, jsonpath-ng, atpublic, flufl.lock, grandalf, texttable, pathspec, distro, pygtrie, PyYAML, smmap, gitdb, gitpython, appdirs, flatten-json, tqdm, funcy, colorama, configobj, nanotime, shortuuid, zc.lockfile, dpath, python-dateutil, treelib, networkx, ruamel.yaml.clib, ruamel.yaml, dvc, cryptography, pyOpenSSL, pydrive2, Pillow, crc32c, deprecation, tensorboardX, catalyst, alchemy\n",
            "  Found existing installation: PyYAML 3.13\n",
            "    Uninstalling PyYAML-3.13:\n",
            "      Successfully uninstalled PyYAML-3.13\n",
            "  Found existing installation: tqdm 4.41.1\n",
            "    Uninstalling tqdm-4.41.1:\n",
            "      Successfully uninstalled tqdm-4.41.1\n",
            "  Found existing installation: python-dateutil 2.8.1\n",
            "    Uninstalling python-dateutil-2.8.1:\n",
            "      Successfully uninstalled python-dateutil-2.8.1\n",
            "  Found existing installation: networkx 2.4\n",
            "    Uninstalling networkx-2.4:\n",
            "      Successfully uninstalled networkx-2.4\n",
            "  Found existing installation: Pillow 7.0.0\n",
            "    Uninstalling Pillow-7.0.0:\n",
            "      Successfully uninstalled Pillow-7.0.0\n",
            "Successfully installed Pillow-6.2.2 PyYAML-5.3.1 alchemy-20.4 appdirs-1.4.4 atpublic-1.0 catalyst-20.4.1 colorama-0.4.3 configobj-5.0.6 crc32c-2.0 cryptography-2.9.2 deprecation-2.1.0 distro-1.5.0 dpath-2.0.1 dvc-0.93.0 flatten-json-0.1.7 flufl.lock-3.2 funcy-1.14 gitdb-4.0.5 gitpython-3.1.2 grandalf-0.6 jsonpath-ng-1.5.1 nanotime-0.5.2 networkx-2.3 pathspec-0.8.0 ply-3.11 pyOpenSSL-19.1.0 pydrive2-1.4.9 pygtrie-2.3.2 python-dateutil-2.8.0 ruamel.yaml-0.16.10 ruamel.yaml.clib-0.2.0 shortuuid-1.0.1 smmap-3.0.4 tensorboardX-2.0 texttable-1.6.2 tqdm-4.46.0 treelib-1.6.1 voluptuous-0.11.7 zc.lockfile-2.0\n"
          ],
          "name": "stdout"
        }
      ]
    },
    {
      "cell_type": "code",
      "metadata": {
        "id": "O0FNZ-PyZgK3",
        "colab_type": "code",
        "colab": {
          "base_uri": "https://localhost:8080/",
          "height": 156
        },
        "outputId": "a1bf73f6-a2ac-4680-f2fb-10a7ffd62b2d"
      },
      "source": [
        "! dvc pull"
      ],
      "execution_count": 6,
      "outputs": [
        {
          "output_type": "stream",
          "text": [
            "\r!\rIf DVC froze, see `hardlink_lock` in <\u001b[36mman.dvc.org/config#core\u001b[39m>\r                                                                        \r\rQuerying cache in /content/.dvc/cache:   0% 0.00/1.00 [00:00<?, ?file/s]\rQuerying cache in /content/.dvc/cache:   0% 0.00/1.00 [00:00<?, ?file/s]\r                                                                        \r\r  0% 0/1 [00:00<?, ?file/s]\r  0% 0/1 [00:00<?, ?file/s]Go to the following link in your browser:\n",
            "\n",
            "    https://accounts.google.com/o/oauth2/auth?client_id=710796635688-iivsgbgsb6uv1fap6635dhvuei09o66c.apps.googleusercontent.com&redirect_uri=urn%3Aietf%3Awg%3Aoauth%3A2.0%3Aoob&scope=https%3A%2F%2Fwww.googleapis.com%2Fauth%2Fdrive+https%3A%2F%2Fwww.googleapis.com%2Fauth%2Fdrive.appdata&access_type=offline&response_type=code&approval_prompt=force\n",
            "\n",
            "Enter verification code: \u001b[0m4/0QEl-2eZrUGSi8iz9pD1AAMackcki-ftFDmR3eDujo0xsyR43gi3IZQ\n",
            "Authentication successful.\n",
            "1 added\n",
            "\u001b[0m\u001b[0m"
          ],
          "name": "stdout"
        }
      ]
    },
    {
      "cell_type": "code",
      "metadata": {
        "id": "uNKvUUOnYQoa",
        "colab_type": "code",
        "colab": {
          "base_uri": "https://localhost:8080/",
          "height": 510
        },
        "outputId": "64202f98-0d14-4105-d7bf-6623dc285230"
      },
      "source": [
        "# sklearn\n",
        "from sklearn.metrics import confusion_matrix, accuracy_score\n",
        "from sklearn.model_selection import train_test_split\n",
        "from sklearn.preprocessing import LabelEncoder\n",
        "\n",
        "import torchvision\n",
        "import torch\n",
        "from torch.utils.data import DataLoader, TensorDataset\n",
        "from catalyst.dl import SupervisedRunner\n",
        "from catalyst.dl.utils import set_global_seed, prepare_cudnn\n",
        "from catalyst.dl.callbacks import AccuracyCallback, AUCCallback, PrecisionRecallF1ScoreCallback, VerboseLogger\n",
        "\n",
        "# Other  \n",
        "from tqdm import tqdm, tqdm_pandas\n",
        "import scipy\n",
        "from scipy.stats import skew\n",
        "import librosa\n",
        "import librosa.display\n",
        "import json\n",
        "import numpy as np\n",
        "import matplotlib.pyplot as plt\n",
        "from matplotlib.pyplot import specgram\n",
        "import pandas as pd\n",
        "import seaborn as sns\n",
        "import glob \n",
        "import os\n",
        "import sys\n",
        "import IPython.display as ipd  # To play sound in the notebook\n",
        "import warnings\n",
        "# ignore warnings \n",
        "if not sys.warnoptions:\n",
        "    warnings.simplefilter(\"ignore\")"
      ],
      "execution_count": 10,
      "outputs": [
        {
          "output_type": "error",
          "ename": "ImportError",
          "evalue": "ignored",
          "traceback": [
            "\u001b[0;31m---------------------------------------------------------------------------\u001b[0m",
            "\u001b[0;31mImportError\u001b[0m                               Traceback (most recent call last)",
            "\u001b[0;32m<ipython-input-10-1a599c0b3ad6>\u001b[0m in \u001b[0;36m<module>\u001b[0;34m()\u001b[0m\n\u001b[1;32m      4\u001b[0m \u001b[0;32mfrom\u001b[0m \u001b[0msklearn\u001b[0m\u001b[0;34m.\u001b[0m\u001b[0mpreprocessing\u001b[0m \u001b[0;32mimport\u001b[0m \u001b[0mLabelEncoder\u001b[0m\u001b[0;34m\u001b[0m\u001b[0;34m\u001b[0m\u001b[0m\n\u001b[1;32m      5\u001b[0m \u001b[0;34m\u001b[0m\u001b[0m\n\u001b[0;32m----> 6\u001b[0;31m \u001b[0;32mimport\u001b[0m \u001b[0mtorchvision\u001b[0m\u001b[0;34m\u001b[0m\u001b[0;34m\u001b[0m\u001b[0m\n\u001b[0m\u001b[1;32m      7\u001b[0m \u001b[0;32mimport\u001b[0m \u001b[0mtorch\u001b[0m\u001b[0;34m\u001b[0m\u001b[0;34m\u001b[0m\u001b[0m\n\u001b[1;32m      8\u001b[0m \u001b[0;32mfrom\u001b[0m \u001b[0mtorch\u001b[0m\u001b[0;34m.\u001b[0m\u001b[0mutils\u001b[0m\u001b[0;34m.\u001b[0m\u001b[0mdata\u001b[0m \u001b[0;32mimport\u001b[0m \u001b[0mDataLoader\u001b[0m\u001b[0;34m,\u001b[0m \u001b[0mTensorDataset\u001b[0m\u001b[0;34m\u001b[0m\u001b[0;34m\u001b[0m\u001b[0m\n",
            "\u001b[0;32m/usr/local/lib/python3.6/dist-packages/torchvision/__init__.py\u001b[0m in \u001b[0;36m<module>\u001b[0;34m()\u001b[0m\n\u001b[1;32m      2\u001b[0m \u001b[0;34m\u001b[0m\u001b[0m\n\u001b[1;32m      3\u001b[0m \u001b[0;32mfrom\u001b[0m \u001b[0mtorchvision\u001b[0m \u001b[0;32mimport\u001b[0m \u001b[0mmodels\u001b[0m\u001b[0;34m\u001b[0m\u001b[0;34m\u001b[0m\u001b[0m\n\u001b[0;32m----> 4\u001b[0;31m \u001b[0;32mfrom\u001b[0m \u001b[0mtorchvision\u001b[0m \u001b[0;32mimport\u001b[0m \u001b[0mdatasets\u001b[0m\u001b[0;34m\u001b[0m\u001b[0;34m\u001b[0m\u001b[0m\n\u001b[0m\u001b[1;32m      5\u001b[0m \u001b[0;32mfrom\u001b[0m \u001b[0mtorchvision\u001b[0m \u001b[0;32mimport\u001b[0m \u001b[0mops\u001b[0m\u001b[0;34m\u001b[0m\u001b[0;34m\u001b[0m\u001b[0m\n\u001b[1;32m      6\u001b[0m \u001b[0;32mfrom\u001b[0m \u001b[0mtorchvision\u001b[0m \u001b[0;32mimport\u001b[0m \u001b[0mtransforms\u001b[0m\u001b[0;34m\u001b[0m\u001b[0;34m\u001b[0m\u001b[0m\n",
            "\u001b[0;32m/usr/local/lib/python3.6/dist-packages/torchvision/datasets/__init__.py\u001b[0m in \u001b[0;36m<module>\u001b[0;34m()\u001b[0m\n\u001b[1;32m      7\u001b[0m \u001b[0;32mfrom\u001b[0m \u001b[0;34m.\u001b[0m\u001b[0msvhn\u001b[0m \u001b[0;32mimport\u001b[0m \u001b[0mSVHN\u001b[0m\u001b[0;34m\u001b[0m\u001b[0;34m\u001b[0m\u001b[0m\n\u001b[1;32m      8\u001b[0m \u001b[0;32mfrom\u001b[0m \u001b[0;34m.\u001b[0m\u001b[0mphototour\u001b[0m \u001b[0;32mimport\u001b[0m \u001b[0mPhotoTour\u001b[0m\u001b[0;34m\u001b[0m\u001b[0;34m\u001b[0m\u001b[0m\n\u001b[0;32m----> 9\u001b[0;31m \u001b[0;32mfrom\u001b[0m \u001b[0;34m.\u001b[0m\u001b[0mfakedata\u001b[0m \u001b[0;32mimport\u001b[0m \u001b[0mFakeData\u001b[0m\u001b[0;34m\u001b[0m\u001b[0;34m\u001b[0m\u001b[0m\n\u001b[0m\u001b[1;32m     10\u001b[0m \u001b[0;32mfrom\u001b[0m \u001b[0;34m.\u001b[0m\u001b[0msemeion\u001b[0m \u001b[0;32mimport\u001b[0m \u001b[0mSEMEION\u001b[0m\u001b[0;34m\u001b[0m\u001b[0;34m\u001b[0m\u001b[0m\n\u001b[1;32m     11\u001b[0m \u001b[0;32mfrom\u001b[0m \u001b[0;34m.\u001b[0m\u001b[0momniglot\u001b[0m \u001b[0;32mimport\u001b[0m \u001b[0mOmniglot\u001b[0m\u001b[0;34m\u001b[0m\u001b[0;34m\u001b[0m\u001b[0m\n",
            "\u001b[0;32m/usr/local/lib/python3.6/dist-packages/torchvision/datasets/fakedata.py\u001b[0m in \u001b[0;36m<module>\u001b[0;34m()\u001b[0m\n\u001b[1;32m      1\u001b[0m \u001b[0;32mimport\u001b[0m \u001b[0mtorch\u001b[0m\u001b[0;34m\u001b[0m\u001b[0;34m\u001b[0m\u001b[0m\n\u001b[1;32m      2\u001b[0m \u001b[0;32mfrom\u001b[0m \u001b[0;34m.\u001b[0m\u001b[0mvision\u001b[0m \u001b[0;32mimport\u001b[0m \u001b[0mVisionDataset\u001b[0m\u001b[0;34m\u001b[0m\u001b[0;34m\u001b[0m\u001b[0m\n\u001b[0;32m----> 3\u001b[0;31m \u001b[0;32mfrom\u001b[0m \u001b[0;34m.\u001b[0m\u001b[0;34m.\u001b[0m \u001b[0;32mimport\u001b[0m \u001b[0mtransforms\u001b[0m\u001b[0;34m\u001b[0m\u001b[0;34m\u001b[0m\u001b[0m\n\u001b[0m\u001b[1;32m      4\u001b[0m \u001b[0;34m\u001b[0m\u001b[0m\n\u001b[1;32m      5\u001b[0m \u001b[0;34m\u001b[0m\u001b[0m\n",
            "\u001b[0;32m/usr/local/lib/python3.6/dist-packages/torchvision/transforms/__init__.py\u001b[0m in \u001b[0;36m<module>\u001b[0;34m()\u001b[0m\n\u001b[0;32m----> 1\u001b[0;31m \u001b[0;32mfrom\u001b[0m \u001b[0;34m.\u001b[0m\u001b[0mtransforms\u001b[0m \u001b[0;32mimport\u001b[0m \u001b[0;34m*\u001b[0m\u001b[0;34m\u001b[0m\u001b[0;34m\u001b[0m\u001b[0m\n\u001b[0m",
            "\u001b[0;32m/usr/local/lib/python3.6/dist-packages/torchvision/transforms/transforms.py\u001b[0m in \u001b[0;36m<module>\u001b[0;34m()\u001b[0m\n\u001b[1;32m     13\u001b[0m \u001b[0;32mimport\u001b[0m \u001b[0mwarnings\u001b[0m\u001b[0;34m\u001b[0m\u001b[0;34m\u001b[0m\u001b[0m\n\u001b[1;32m     14\u001b[0m \u001b[0;34m\u001b[0m\u001b[0m\n\u001b[0;32m---> 15\u001b[0;31m \u001b[0;32mfrom\u001b[0m \u001b[0;34m.\u001b[0m \u001b[0;32mimport\u001b[0m \u001b[0mfunctional\u001b[0m \u001b[0;32mas\u001b[0m \u001b[0mF\u001b[0m\u001b[0;34m\u001b[0m\u001b[0;34m\u001b[0m\u001b[0m\n\u001b[0m\u001b[1;32m     16\u001b[0m \u001b[0;34m\u001b[0m\u001b[0m\n\u001b[1;32m     17\u001b[0m \u001b[0;34m\u001b[0m\u001b[0m\n",
            "\u001b[0;32m/usr/local/lib/python3.6/dist-packages/torchvision/transforms/functional.py\u001b[0m in \u001b[0;36m<module>\u001b[0;34m()\u001b[0m\n\u001b[1;32m      1\u001b[0m \u001b[0;32mimport\u001b[0m \u001b[0mtorch\u001b[0m\u001b[0;34m\u001b[0m\u001b[0;34m\u001b[0m\u001b[0m\n\u001b[1;32m      2\u001b[0m \u001b[0;32mimport\u001b[0m \u001b[0mmath\u001b[0m\u001b[0;34m\u001b[0m\u001b[0;34m\u001b[0m\u001b[0m\n\u001b[0;32m----> 3\u001b[0;31m \u001b[0;32mfrom\u001b[0m \u001b[0mPIL\u001b[0m \u001b[0;32mimport\u001b[0m \u001b[0mImage\u001b[0m\u001b[0;34m,\u001b[0m \u001b[0mImageOps\u001b[0m\u001b[0;34m,\u001b[0m \u001b[0mImageEnhance\u001b[0m\u001b[0;34m,\u001b[0m \u001b[0m__version__\u001b[0m \u001b[0;32mas\u001b[0m \u001b[0mPILLOW_VERSION\u001b[0m\u001b[0;34m\u001b[0m\u001b[0;34m\u001b[0m\u001b[0m\n\u001b[0m\u001b[1;32m      4\u001b[0m \u001b[0;32mtry\u001b[0m\u001b[0;34m:\u001b[0m\u001b[0;34m\u001b[0m\u001b[0;34m\u001b[0m\u001b[0m\n\u001b[1;32m      5\u001b[0m     \u001b[0;32mimport\u001b[0m \u001b[0maccimage\u001b[0m\u001b[0;34m\u001b[0m\u001b[0;34m\u001b[0m\u001b[0m\n",
            "\u001b[0;32m/usr/local/lib/python3.6/dist-packages/PIL/ImageOps.py\u001b[0m in \u001b[0;36m<module>\u001b[0;34m()\u001b[0m\n\u001b[1;32m     22\u001b[0m \u001b[0;34m\u001b[0m\u001b[0m\n\u001b[1;32m     23\u001b[0m \u001b[0;32mfrom\u001b[0m \u001b[0;34m.\u001b[0m \u001b[0;32mimport\u001b[0m \u001b[0mImage\u001b[0m\u001b[0;34m\u001b[0m\u001b[0;34m\u001b[0m\u001b[0m\n\u001b[0;32m---> 24\u001b[0;31m \u001b[0;32mfrom\u001b[0m \u001b[0;34m.\u001b[0m\u001b[0m_util\u001b[0m \u001b[0;32mimport\u001b[0m \u001b[0misStringType\u001b[0m\u001b[0;34m\u001b[0m\u001b[0;34m\u001b[0m\u001b[0m\n\u001b[0m\u001b[1;32m     25\u001b[0m \u001b[0;34m\u001b[0m\u001b[0m\n\u001b[1;32m     26\u001b[0m \u001b[0;31m#\u001b[0m\u001b[0;34m\u001b[0m\u001b[0;34m\u001b[0m\u001b[0;34m\u001b[0m\u001b[0m\n",
            "\u001b[0;31mImportError\u001b[0m: cannot import name 'isStringType'",
            "",
            "\u001b[0;31m---------------------------------------------------------------------------\u001b[0;32m\nNOTE: If your import is failing due to a missing package, you can\nmanually install dependencies using either !pip or !apt.\n\nTo view examples of installing some common dependencies, click the\n\"Open Examples\" button below.\n\u001b[0;31m---------------------------------------------------------------------------\u001b[0m\n"
          ]
        }
      ]
    },
    {
      "cell_type": "code",
      "metadata": {
        "id": "hIiT5zROYQoi",
        "colab_type": "code",
        "colab": {},
        "outputId": "fdabb1f4-bf15-4901-ff81-67f643610f8b"
      },
      "source": [
        "ref = pd.read_csv(\"../data/processed/Data_path.csv\")\n",
        "ref.head()"
      ],
      "execution_count": 0,
      "outputs": [
        {
          "output_type": "execute_result",
          "data": {
            "text/plain": [
              "         labels source                                               path\n",
              "0  male_disgust  SAVEE  ../data/raw/surrey-audiovisual-expressed-emoti...\n",
              "1  male_disgust  SAVEE  ../data/raw/surrey-audiovisual-expressed-emoti...\n",
              "2      male_sad  SAVEE  ../data/raw/surrey-audiovisual-expressed-emoti...\n",
              "3  male_neutral  SAVEE  ../data/raw/surrey-audiovisual-expressed-emoti...\n",
              "4     male_fear  SAVEE  ../data/raw/surrey-audiovisual-expressed-emoti..."
            ],
            "text/html": [
              "<div>\n",
              "<style scoped>\n",
              "    .dataframe tbody tr th:only-of-type {\n",
              "        vertical-align: middle;\n",
              "    }\n",
              "\n",
              "    .dataframe tbody tr th {\n",
              "        vertical-align: top;\n",
              "    }\n",
              "\n",
              "    .dataframe thead th {\n",
              "        text-align: right;\n",
              "    }\n",
              "</style>\n",
              "<table border=\"1\" class=\"dataframe\">\n",
              "  <thead>\n",
              "    <tr style=\"text-align: right;\">\n",
              "      <th></th>\n",
              "      <th>labels</th>\n",
              "      <th>source</th>\n",
              "      <th>path</th>\n",
              "    </tr>\n",
              "  </thead>\n",
              "  <tbody>\n",
              "    <tr>\n",
              "      <th>0</th>\n",
              "      <td>male_disgust</td>\n",
              "      <td>SAVEE</td>\n",
              "      <td>../data/raw/surrey-audiovisual-expressed-emoti...</td>\n",
              "    </tr>\n",
              "    <tr>\n",
              "      <th>1</th>\n",
              "      <td>male_disgust</td>\n",
              "      <td>SAVEE</td>\n",
              "      <td>../data/raw/surrey-audiovisual-expressed-emoti...</td>\n",
              "    </tr>\n",
              "    <tr>\n",
              "      <th>2</th>\n",
              "      <td>male_sad</td>\n",
              "      <td>SAVEE</td>\n",
              "      <td>../data/raw/surrey-audiovisual-expressed-emoti...</td>\n",
              "    </tr>\n",
              "    <tr>\n",
              "      <th>3</th>\n",
              "      <td>male_neutral</td>\n",
              "      <td>SAVEE</td>\n",
              "      <td>../data/raw/surrey-audiovisual-expressed-emoti...</td>\n",
              "    </tr>\n",
              "    <tr>\n",
              "      <th>4</th>\n",
              "      <td>male_fear</td>\n",
              "      <td>SAVEE</td>\n",
              "      <td>../data/raw/surrey-audiovisual-expressed-emoti...</td>\n",
              "    </tr>\n",
              "  </tbody>\n",
              "</table>\n",
              "</div>"
            ]
          },
          "metadata": {
            "tags": []
          },
          "execution_count": 2
        }
      ]
    },
    {
      "cell_type": "code",
      "metadata": {
        "id": "JrHMXepDYQom",
        "colab_type": "code",
        "colab": {}
      },
      "source": [
        "'''\n",
        "1. Data Augmentation method   \n",
        "'''\n",
        "def speedNpitch(data):\n",
        "    \"\"\"\n",
        "    Speed and Pitch Tuning.\n",
        "    \"\"\"\n",
        "    # you can change low and high here\n",
        "    length_change = np.random.uniform(low=0.8, high = 1)\n",
        "    speed_fac = 1.2  / length_change # try changing 1.0 to 2.0 ... =D\n",
        "    tmp = np.interp(np.arange(0,len(data),speed_fac),np.arange(0,len(data)),data)\n",
        "    minlen = min(data.shape[0], tmp.shape[0])\n",
        "    data *= 0\n",
        "    data[0:minlen] = tmp[0:minlen]\n",
        "    return data\n",
        "\n",
        "'''\n",
        "2. Extracting the MFCC feature as an image (Matrix format).  \n",
        "'''\n",
        "def prepare_data(df, n, aug, mfcc):\n",
        "    X = np.empty(shape=(df.shape[0], n, 216, 1))\n",
        "    input_length = sampling_rate * audio_duration\n",
        "    \n",
        "    cnt = 0\n",
        "    for fname in tqdm(df.path):\n",
        "        file_path = fname\n",
        "        data, _ = librosa.load(file_path, sr=sampling_rate\n",
        "                               ,res_type=\"kaiser_fast\"\n",
        "                               ,duration=2.5\n",
        "                               ,offset=0.5\n",
        "                              )\n",
        "\n",
        "        # Random offset / Padding\n",
        "        if len(data) > input_length:\n",
        "            max_offset = len(data) - input_length\n",
        "            offset = np.random.randint(max_offset)\n",
        "            data = data[offset:(input_length+offset)]\n",
        "        else:\n",
        "            if input_length > len(data):\n",
        "                max_offset = input_length - len(data)\n",
        "                offset = np.random.randint(max_offset)\n",
        "            else:\n",
        "                offset = 0\n",
        "            data = np.pad(data, (offset, int(input_length) - len(data) - offset), \"constant\")\n",
        "\n",
        "        # Augmentation? \n",
        "        if aug == 1:\n",
        "            data = speedNpitch(data)\n",
        "        \n",
        "        # which feature?\n",
        "        if mfcc == 1:\n",
        "            # MFCC extraction \n",
        "            MFCC = librosa.feature.mfcc(data, sr=sampling_rate, n_mfcc=n_mfcc)\n",
        "            MFCC = np.expand_dims(MFCC, axis=-1)\n",
        "            X[cnt,] = MFCC\n",
        "            \n",
        "        else:\n",
        "            # Log-melspectogram\n",
        "            melspec = librosa.feature.melspectrogram(data, n_mels = n_melspec)   \n",
        "            logspec = librosa.amplitude_to_db(melspec)\n",
        "            logspec = np.expand_dims(logspec, axis=-1)\n",
        "            X[cnt,] = logspec\n",
        "            \n",
        "        cnt += 1\n",
        "    \n",
        "    return X\n"
      ],
      "execution_count": 0,
      "outputs": []
    },
    {
      "cell_type": "code",
      "metadata": {
        "id": "heJZjlXMYQor",
        "colab_type": "code",
        "colab": {}
      },
      "source": [
        "# sampling_rate=44100\n",
        "# audio_duration=2.5\n",
        "# n_mfcc = 30\n",
        "# mfcc = prepare_data(ref, n = n_mfcc, aug = 0, mfcc = 1)"
      ],
      "execution_count": 0,
      "outputs": []
    },
    {
      "cell_type": "code",
      "metadata": {
        "id": "M7dPI-KDYQov",
        "colab_type": "code",
        "colab": {}
      },
      "source": [
        "mfcc = np.load('../data/processed/MFCC_PREPARE.npy')"
      ],
      "execution_count": 0,
      "outputs": []
    },
    {
      "cell_type": "code",
      "metadata": {
        "id": "a_zvENiGYQoz",
        "colab_type": "code",
        "colab": {}
      },
      "source": [
        "# Split between train and test \n",
        "X_train, X_test, y_train, y_test = train_test_split(mfcc\n",
        "                                                    , ref.labels\n",
        "                                                    , test_size=0.25\n",
        "                                                    , shuffle=True\n",
        "                                                    , random_state=42\n",
        "                                                   )\n"
      ],
      "execution_count": 0,
      "outputs": []
    },
    {
      "cell_type": "code",
      "metadata": {
        "id": "oBhvC5kkYQo3",
        "colab_type": "code",
        "colab": {}
      },
      "source": [
        "#np.save('../data/processed/MFCC_PREPARE.npy', mfcc)"
      ],
      "execution_count": 0,
      "outputs": []
    },
    {
      "cell_type": "code",
      "metadata": {
        "id": "GgSe-6b9YQo8",
        "colab_type": "code",
        "colab": {}
      },
      "source": [
        "# one hot encode the target \n",
        "lb = LabelEncoder()\n",
        "# y_train = np.eye(len(ref.labels.unique()), dtype='uint8')[lb.fit_transform(y_train)] # to_categorical\n",
        "# y_test = np.eye(len(ref.labels.unique()), dtype='uint8')[lb.fit_transform(y_test)] # to_categorical\n",
        "\n",
        "y_train = lb.fit_transform(y_train) # to_categorical\n",
        "y_test = lb.fit_transform(y_test) # to_categorical\n",
        "\n",
        "# Normalization as per the standard NN process\n",
        "mean = np.mean(X_train, axis=0)\n",
        "std = np.std(X_train, axis=0)\n",
        "\n",
        "X_train = (X_train - mean)/std\n",
        "X_test = (X_test - mean)/std"
      ],
      "execution_count": 0,
      "outputs": []
    },
    {
      "cell_type": "code",
      "metadata": {
        "id": "VnjI14pqYQpA",
        "colab_type": "code",
        "colab": {}
      },
      "source": [
        "model = torchvision.models.resnet50(pretrained=False, progress=True, num_classes=14)"
      ],
      "execution_count": 0,
      "outputs": []
    },
    {
      "cell_type": "code",
      "metadata": {
        "id": "wX2QZyGZYQpE",
        "colab_type": "code",
        "colab": {}
      },
      "source": [
        "BATCH_SIZE = 16"
      ],
      "execution_count": 0,
      "outputs": []
    },
    {
      "cell_type": "code",
      "metadata": {
        "id": "B6RztAlDYQpH",
        "colab_type": "code",
        "colab": {}
      },
      "source": [
        "device = torch.device('cuda:0' if torch.cuda.is_available() else 'cpu')\n",
        "\n",
        "# create feature and targets tensor for train set. As you remember we need variable to accumulate gradients. Therefore first we create tensor, then we will create variable\n",
        "featuresTrain = torch.from_numpy(X_train)\n",
        "targetsTrain = torch.from_numpy(y_train).type(torch.LongTensor) # data type is long\n",
        "\n",
        "# create feature and targets tensor for test set.\n",
        "featuresTest = torch.from_numpy(X_test)\n",
        "targetsTest = torch.from_numpy(y_test).type(torch.LongTensor) # data type is long\n",
        "\n",
        "trainSet = TensorDataset(featuresTrain,targetsTrain)\n",
        "validSet = TensorDataset(featuresTest,targetsTest)\n",
        "\n",
        "# data loader\n",
        "train_loader = DataLoader(trainSet, batch_size = BATCH_SIZE, shuffle = True)\n",
        "valid_loader = DataLoader(validSet, batch_size = BATCH_SIZE, shuffle = False)"
      ],
      "execution_count": 0,
      "outputs": []
    },
    {
      "cell_type": "code",
      "metadata": {
        "id": "7K0Q_shDYQpL",
        "colab_type": "code",
        "colab": {}
      },
      "source": [
        "optimizer = torch.optim.Adam(model.parameters(), lr=3e-4)\n",
        "criterion = torch.nn.CrossEntropyLoss()"
      ],
      "execution_count": 0,
      "outputs": []
    },
    {
      "cell_type": "code",
      "metadata": {
        "id": "vWUVsujkYQpO",
        "colab_type": "code",
        "colab": {}
      },
      "source": [
        "# Init catalyst components\n",
        "runner = SupervisedRunner(device=device)\n",
        "loaders = {'train': train_loader, 'valid': valid_loader}\n",
        "logdir = '../data/logs/0'\n",
        "callbacks = [\n",
        "    AccuracyCallback(num_classes = 2),\n",
        "    # AUCCallback(num_classes = 2, class_names = {0: 'Mirni',1: 'Mafia'}),\n",
        "    # VerboseLogger(),\n",
        "    # PrecisionRecallF1ScoreCallback(num_classes = 2),\n",
        "]"
      ],
      "execution_count": 0,
      "outputs": []
    },
    {
      "cell_type": "code",
      "metadata": {
        "id": "8vfJa0YxYQpS",
        "colab_type": "code",
        "colab": {},
        "outputId": "42407187-7fa0-4bfd-ffe8-ba8ef036f515"
      },
      "source": [
        "runner.train(\n",
        "        model=model.double(),\n",
        "        criterion=criterion,\n",
        "        optimizer=optimizer,\n",
        "        loaders=loaders,\n",
        "        callbacks=callbacks,\n",
        "        logdir=logdir,\n",
        "        num_epochs=20,\n",
        "        verbose=2,        \n",
        "    )  "
      ],
      "execution_count": 0,
      "outputs": [
        {
          "output_type": "stream",
          "text": [
            "1/20 * Epoch (train): 100% 571/571 [12:06<00:00,  1.27s/it, accuracy01=0.000e+00, loss=2.683]\n",
            "1/20 * Epoch (valid): 100% 191/191 [00:41<00:00,  4.60it/s, accuracy01=0.000e+00, loss=1.963]\n",
            "[2020-05-28 01:29:36,549] \n",
            "1/20 * Epoch 1 (_base): lr=0.0003 | momentum=0.9000\n",
            "1/20 * Epoch 1 (train): accuracy01=0.2701 | loss=2.1673\n",
            "1/20 * Epoch 1 (valid): accuracy01=0.3312 | loss=2.0148\n",
            "2/20 * Epoch (train): 100% 571/571 [12:16<00:00,  1.29s/it, accuracy01=0.000e+00, loss=3.782]\n",
            "2/20 * Epoch (valid): 100% 191/191 [00:43<00:00,  4.44it/s, accuracy01=0.000e+00, loss=2.316]\n",
            "[2020-05-28 01:42:40,349] \n",
            "2/20 * Epoch 2 (_base): lr=0.0003 | momentum=0.9000\n",
            "2/20 * Epoch 2 (train): accuracy01=0.4098 | loss=1.6950\n",
            "2/20 * Epoch 2 (valid): accuracy01=0.4526 | loss=1.5966\n",
            "3/20 * Epoch (train): 100% 571/571 [12:00<00:00,  1.26s/it, accuracy01=0.000e+00, loss=4.302]\n",
            "3/20 * Epoch (valid): 100% 191/191 [00:43<00:00,  4.44it/s, accuracy01=1.000, loss=0.244]\n",
            "[2020-05-28 01:55:26,435] \n",
            "3/20 * Epoch 3 (_base): lr=0.0003 | momentum=0.9000\n",
            "3/20 * Epoch 3 (train): accuracy01=0.4649 | loss=1.4958\n",
            "3/20 * Epoch 3 (valid): accuracy01=0.4643 | loss=1.9714\n",
            "4/20 * Epoch (train): 100% 571/571 [11:59<00:00,  1.26s/it, accuracy01=0.000e+00, loss=3.637]\n",
            "4/20 * Epoch (valid): 100% 191/191 [00:43<00:00,  4.42it/s, accuracy01=1.000, loss=1.083]\n",
            "[2020-05-28 02:08:10,990] \n",
            "4/20 * Epoch 4 (_base): lr=0.0003 | momentum=0.9000\n",
            "4/20 * Epoch 4 (train): accuracy01=0.5102 | loss=1.3669\n",
            "4/20 * Epoch 4 (valid): accuracy01=0.5314 | loss=1.3419\n",
            "5/20 * Epoch (train): 100% 571/571 [12:02<00:00,  1.27s/it, accuracy01=0.000e+00, loss=1.192]\n",
            "5/20 * Epoch (valid): 100% 191/191 [00:43<00:00,  4.41it/s, accuracy01=1.000, loss=0.248]\n",
            "[2020-05-28 02:20:59,728] \n",
            "5/20 * Epoch 5 (_base): lr=0.0003 | momentum=0.9000\n",
            "5/20 * Epoch 5 (train): accuracy01=0.5437 | loss=1.2522\n",
            "5/20 * Epoch 5 (valid): accuracy01=0.5402 | loss=1.2764\n",
            "6/20 * Epoch (train): 100% 571/571 [12:03<00:00,  1.27s/it, accuracy01=0.000e+00, loss=2.107]\n",
            "6/20 * Epoch (valid): 100% 191/191 [00:44<00:00,  4.25it/s, accuracy01=1.000, loss=0.607]\n",
            "[2020-05-28 02:33:50,975] \n",
            "6/20 * Epoch 6 (_base): lr=0.0003 | momentum=0.9000\n",
            "6/20 * Epoch 6 (train): accuracy01=0.5818 | loss=1.1652\n",
            "6/20 * Epoch 6 (valid): accuracy01=0.5769 | loss=1.1755\n",
            "7/20 * Epoch (train): 100% 571/571 [12:01<00:00,  1.26s/it, accuracy01=0.000e+00, loss=2.393]\n",
            "7/20 * Epoch (valid): 100% 191/191 [00:43<00:00,  4.38it/s, accuracy01=1.000, loss=0.656]\n",
            "[2020-05-28 02:46:39,466] \n",
            "7/20 * Epoch 7 (_base): lr=0.0003 | momentum=0.9000\n",
            "7/20 * Epoch 7 (train): accuracy01=0.5884 | loss=1.1203\n",
            "7/20 * Epoch 7 (valid): accuracy01=0.5661 | loss=1.2214\n",
            "8/20 * Epoch (train): 100% 571/571 [12:02<00:00,  1.26s/it, accuracy01=1.000, loss=0.430]\n",
            "8/20 * Epoch (valid): 100% 191/191 [00:43<00:00,  4.39it/s, accuracy01=1.000, loss=0.321]\n",
            "[2020-05-28 02:59:26,781] \n",
            "8/20 * Epoch 8 (_base): lr=0.0003 | momentum=0.9000\n",
            "8/20 * Epoch 8 (train): accuracy01=0.6154 | loss=1.0354\n",
            "8/20 * Epoch 8 (valid): accuracy01=0.5985 | loss=1.1029\n",
            "9/20 * Epoch (train): 100% 571/571 [11:55<00:00,  1.25s/it, accuracy01=0.000e+00, loss=2.936]\n",
            "9/20 * Epoch (valid): 100% 191/191 [00:39<00:00,  4.79it/s, accuracy01=1.000, loss=0.837]\n",
            "[2020-05-28 03:12:05,310] \n",
            "9/20 * Epoch 9 (_base): lr=0.0003 | momentum=0.9000\n",
            "9/20 * Epoch 9 (train): accuracy01=0.6428 | loss=0.9830\n",
            "9/20 * Epoch 9 (valid): accuracy01=0.5654 | loss=1.2744\n",
            "10/20 * Epoch (train): 100% 571/571 [12:01<00:00,  1.26s/it, accuracy01=0.000e+00, loss=4.757]\n",
            "10/20 * Epoch (valid): 100% 191/191 [00:44<00:00,  4.29it/s, accuracy01=0.000e+00, loss=2.427]\n",
            "[2020-05-28 03:24:53,490] \n",
            "10/20 * Epoch 10 (_base): lr=0.0003 | momentum=0.9000\n",
            "10/20 * Epoch 10 (train): accuracy01=0.6724 | loss=0.9048\n",
            "10/20 * Epoch 10 (valid): accuracy01=0.5825 | loss=1.1229\n",
            "11/20 * Epoch (train): 100% 571/571 [12:22<00:00,  1.30s/it, accuracy01=0.000e+00, loss=1.685]\n",
            "11/20 * Epoch (valid): 100% 191/191 [00:45<00:00,  4.23it/s, accuracy01=1.000, loss=0.122]\n",
            "[2020-05-28 03:38:03,262] \n",
            "11/20 * Epoch 11 (_base): lr=0.0003 | momentum=0.9000\n",
            "11/20 * Epoch 11 (train): accuracy01=0.6899 | loss=0.8308\n",
            "11/20 * Epoch 11 (valid): accuracy01=0.5602 | loss=1.4055\n",
            "12/20 * Epoch (train): 100% 571/571 [12:20<00:00,  1.30s/it, accuracy01=0.000e+00, loss=3.784]\n",
            "12/20 * Epoch (valid): 100% 191/191 [00:44<00:00,  4.28it/s, accuracy01=0.000e+00, loss=1.287]\n",
            "[2020-05-28 03:51:10,669] \n",
            "12/20 * Epoch 12 (_base): lr=0.0003 | momentum=0.9000\n",
            "12/20 * Epoch 12 (train): accuracy01=0.7194 | loss=0.7740\n",
            "12/20 * Epoch 12 (valid): accuracy01=0.5789 | loss=1.5462\n",
            "13/20 * Epoch (train):  64% 363/571 [07:43<04:17,  1.24s/it, accuracy01=0.812, loss=0.642]Early exiting\n",
            "13/20 * Epoch (train):  64% 363/571 [07:44<04:17,  1.24s/it, accuracy01=0.812, loss=0.642]"
          ],
          "name": "stdout"
        }
      ]
    },
    {
      "cell_type": "code",
      "metadata": {
        "id": "w27_3cqQYQpW",
        "colab_type": "code",
        "colab": {}
      },
      "source": [
        ""
      ],
      "execution_count": 0,
      "outputs": []
    }
  ]
}