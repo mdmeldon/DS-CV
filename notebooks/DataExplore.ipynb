{
 "cells": [
  {
   "cell_type": "code",
   "execution_count": 24,
   "metadata": {},
   "outputs": [],
   "source": [
    "# Import libraries \n",
    "import librosa\n",
    "import librosa.display\n",
    "import numpy as np\n",
    "import matplotlib.pyplot as plt\n",
    "from matplotlib.pyplot import specgram\n",
    "import torch\n",
    "import pandas as pd\n",
    "import glob \n",
    "from sklearn.metrics import confusion_matrix\n",
    "import IPython.display as ipd  # To play sound in the notebook\n",
    "import os\n",
    "import sys\n",
    "import warnings\n",
    "# ignore warnings \n",
    "if not sys.warnoptions:\n",
    "    warnings.simplefilter(\"ignore\")\n",
    "warnings.filterwarnings(\"ignore\", category=DeprecationWarning) "
   ]
  },
  {
   "cell_type": "code",
   "execution_count": 25,
   "metadata": {},
   "outputs": [
    {
     "output_type": "execute_result",
     "data": {
      "text/plain": "['DC_d03.wav', 'KL_d15.wav', 'DC_sa12.wav', 'DC_n19.wav', 'DC_f07.wav']"
     },
     "metadata": {},
     "execution_count": 25
    }
   ],
   "source": [
    "DATA_RAW = '../data/raw'\n",
    "TESS = f'{DATA_RAW}/toronto-emotional-speech-set-tess/tess toronto emotional speech set data/TESS Toronto emotional speech set data/'\n",
    "RAV = f'{DATA_RAW}/ravdess-emotional-speech-audio/audio_speech_actors_01-24/'\n",
    "SAVEE = f'{DATA_RAW}/surrey-audiovisual-expressed-emotion-savee/ALL/'\n",
    "CREMA = f'{DATA_RAW}/cremad/AudioWAV/'\n",
    "\n",
    "# Run one example \n",
    "dir_list = os.listdir(SAVEE)\n",
    "dir_list[0:5]"
   ]
  },
  {
   "cell_type": "code",
   "execution_count": 34,
   "metadata": {},
   "outputs": [
    {
     "output_type": "execute_result",
     "data": {
      "text/plain": "male_neutral    120\nmale_disgust     60\nmale_fear        60\nmale_happy       60\nmale_angry       60\nmale_sad         60\nName: labels, dtype: int64"
     },
     "metadata": {},
     "execution_count": 34
    }
   ],
   "source": [
    "# Get the data location for SAVEE\n",
    "dir_list = os.listdir(SAVEE)\n",
    "\n",
    "emo_dict = {'_a': 'male_angry', '_d': 'male_disgust', '_f': 'male_fear',\n",
    "            '_h': 'male_happy', '_n': 'male_neutral', 'sa': 'male_sad'}\n",
    "# parse the filename to get the emotions\n",
    "emotion=[]\n",
    "path = []\n",
    "for i in dir_list:\n",
    "    if i[-8:-6] in emo_dict:\n",
    "        emotion.append(emo_dict[i[-8:-6]])\n",
    "    # else:\n",
    "    #     emotion.append('male_error') \n",
    "    path.append(SAVEE + i)\n",
    "    \n",
    "# Now check out the label count distribution \n",
    "SAVEE_df = pd.DataFrame(emotion, columns = ['labels'])\n",
    "SAVEE_df['source'] = 'SAVEE'\n",
    "SAVEE_df = pd.concat([SAVEE_df, pd.DataFrame(path, columns = ['path'])], axis = 1)\n",
    "SAVEE_df.labels.value_counts()"
   ]
  },
  {
   "cell_type": "code",
   "execution_count": 35,
   "metadata": {},
   "outputs": [
    {
     "output_type": "execute_result",
     "data": {
      "text/plain": "male_neutral      144\nfemale_neutral    144\nmale_fear          96\nfemale_angry       96\nfemale_disgust     96\nfemale_fear        96\nmale_angry         96\nmale_sad           96\nfemale_happy       96\nmale_disgust       96\nmale_happy         96\nfemale_sad         96\nName: labels, dtype: int64"
     },
     "metadata": {},
     "execution_count": 35
    }
   ],
   "source": [
    "dir_list = os.listdir(RAV)\n",
    "dir_list.sort()\n",
    "\n",
    "emotion = []\n",
    "gender = []\n",
    "path = []\n",
    "for i in dir_list:\n",
    "    fname = os.listdir(RAV + i)\n",
    "    for f in fname:\n",
    "        part = f.split('.')[0].split('-')\n",
    "        if (int(part[2]) != 8):\n",
    "            emotion.append(int(part[2]))\n",
    "            temp = int(part[6])\n",
    "            if temp%2 == 0:\n",
    "                temp = \"female\"\n",
    "            else:\n",
    "                temp = \"male\"\n",
    "            gender.append(temp)\n",
    "            path.append(RAV + i + '/' + f)\n",
    "\n",
    "        \n",
    "RAV_df = pd.DataFrame(emotion)\n",
    "RAV_df = RAV_df.replace({1:'neutral', 2:'neutral', 3:'happy', 4:'sad', 5:'angry', 6:'fear', 7:'disgust'})\n",
    "RAV_df = pd.concat([pd.DataFrame(gender),RAV_df],axis=1)\n",
    "RAV_df.columns = ['gender','emotion']\n",
    "RAV_df['labels'] =RAV_df.gender + '_' + RAV_df.emotion\n",
    "RAV_df['source'] = 'RAVDESS'  \n",
    "RAV_df = pd.concat([RAV_df,pd.DataFrame(path, columns = ['path'])],axis=1)\n",
    "RAV_df = RAV_df.drop(['gender', 'emotion'], axis=1)\n",
    "RAV_df.labels.value_counts()"
   ]
  },
  {
   "cell_type": "code",
   "execution_count": 36,
   "metadata": {},
   "outputs": [],
   "source": [
    "#The speakers and the emotions are organised in seperate folders which is very convenient\n",
    "dir_list = os.listdir(TESS)\n",
    "dir_list.sort()"
   ]
  },
  {
   "cell_type": "code",
   "execution_count": 37,
   "metadata": {},
   "outputs": [
    {
     "output_type": "stream",
     "name": "stdout",
     "text": "oaf_fear\noaf_pleasant_surprise\noaf_sad\noaf_angry\noaf_disgust\noaf_happy\noaf_neutral\nyaf_angry\nyaf_disgust\nyaf_fear\nyaf_happy\nyaf_neutral\nyaf_pleasant_surprised\nyaf_sad\n"
    },
    {
     "output_type": "execute_result",
     "data": {
      "text/plain": "female_angry      400\nfemale_disgust    400\nfemale_happy      400\nfemale_fear       400\nfemale_neutral    400\nfemale_sad        400\nName: labels, dtype: int64"
     },
     "metadata": {},
     "execution_count": 37
    }
   ],
   "source": [
    "path = []\n",
    "emotion = []\n",
    "\n",
    "emo_dict = {'an': 'female_angry', 'di': 'female_disgust', 'fe': 'female_fear', 'ha': 'female_happy',\n",
    "            'ne': 'female_neutral', 'sa': 'female_sad'}\n",
    "for i in dir_list:\n",
    "    fname = os.listdir(TESS + i)\n",
    "    print(i.lower())\n",
    "    for f in fname:\n",
    "        now_emotional = i.lower()[4:6] \n",
    "        if  now_emotional in emo_dict:\n",
    "            emotion.append(emo_dict[now_emotional])\n",
    "        # else:\n",
    "        #     emotion.append('Unknown')\n",
    "        path.append(TESS + i + \"/\" + f)\n",
    "\n",
    "TESS_df = pd.DataFrame(emotion, columns = ['labels'])\n",
    "TESS_df['source'] = 'TESS'\n",
    "TESS_df = pd.concat([TESS_df,pd.DataFrame(path, columns = ['path'])],axis=1)\n",
    "TESS_df.labels.value_counts()"
   ]
  },
  {
   "cell_type": "code",
   "execution_count": 38,
   "metadata": {},
   "outputs": [
    {
     "output_type": "execute_result",
     "data": {
      "text/plain": "male_sad          671\nmale_fear         671\nmale_disgust      671\nmale_happy        671\nmale_angry        671\nfemale_angry      600\nfemale_happy      600\nfemale_sad        600\nfemale_disgust    600\nfemale_fear       600\nmale_neutral      575\nfemale_neutral    512\nName: labels, dtype: int64"
     },
     "metadata": {},
     "execution_count": 38
    }
   ],
   "source": [
    "dir_list = os.listdir(CREMA)\n",
    "dir_list.sort()\n",
    "\n",
    "gender = []\n",
    "emotion = []\n",
    "path = []\n",
    "female = [1002,1003,1004,1006,1007,1008,1009,1010,1012,1013,1018,1020,1021,1024,1025,1028,1029,1030,1037,1043,1046,1047,1049,\n",
    "          1052,1053,1054,1055,1056,1058,1060,1061,1063,1072,1073,1074,1075,1076,1078,1079,1082,1084,1089,1091]\n",
    "\n",
    "emo_dict = {'SAD': '_sad', 'ANG': '_angry', 'DIS': '_disgust', 'FEA': '_fear',\n",
    "            'HAP': '_happy', 'NEU': '_neutral'}\n",
    "\n",
    "for i in dir_list: \n",
    "    part = i.split('_')\n",
    "    if int(part[0]) in female:\n",
    "        temp = 'female'\n",
    "    else:\n",
    "        temp = 'male'\n",
    "    gender.append(temp)\n",
    "    if part[2] in emo_dict:\n",
    "        emotion.append(temp + emo_dict[part[2]])\n",
    "    else:\n",
    "        emotion.append('Unknown')\n",
    "    path.append(CREMA + i)\n",
    "    \n",
    "CREMA_df = pd.DataFrame(emotion, columns = ['labels'])\n",
    "CREMA_df['source'] = 'CREMA'\n",
    "CREMA_df = pd.concat([CREMA_df,pd.DataFrame(path, columns = ['path'])],axis=1)\n",
    "CREMA_df.labels.value_counts()"
   ]
  },
  {
   "cell_type": "code",
   "execution_count": 39,
   "metadata": {},
   "outputs": [
    {
     "output_type": "stream",
     "name": "stdout",
     "text": "female_angry      1096\nfemale_happy      1096\nfemale_sad        1096\nfemale_fear       1096\nfemale_disgust    1096\nfemale_neutral    1056\nmale_neutral       839\nmale_angry         827\nmale_sad           827\nmale_fear          827\nmale_disgust       827\nmale_happy         827\nName: labels, dtype: int64\n"
    },
    {
     "output_type": "execute_result",
     "data": {
      "text/plain": "         labels source                                               path\n0  male_disgust  SAVEE  ../data/raw/surrey-audiovisual-expressed-emoti...\n1  male_disgust  SAVEE  ../data/raw/surrey-audiovisual-expressed-emoti...\n2      male_sad  SAVEE  ../data/raw/surrey-audiovisual-expressed-emoti...\n3  male_neutral  SAVEE  ../data/raw/surrey-audiovisual-expressed-emoti...\n4     male_fear  SAVEE  ../data/raw/surrey-audiovisual-expressed-emoti...",
      "text/html": "<div>\n<style scoped>\n    .dataframe tbody tr th:only-of-type {\n        vertical-align: middle;\n    }\n\n    .dataframe tbody tr th {\n        vertical-align: top;\n    }\n\n    .dataframe thead th {\n        text-align: right;\n    }\n</style>\n<table border=\"1\" class=\"dataframe\">\n  <thead>\n    <tr style=\"text-align: right;\">\n      <th></th>\n      <th>labels</th>\n      <th>source</th>\n      <th>path</th>\n    </tr>\n  </thead>\n  <tbody>\n    <tr>\n      <th>0</th>\n      <td>male_disgust</td>\n      <td>SAVEE</td>\n      <td>../data/raw/surrey-audiovisual-expressed-emoti...</td>\n    </tr>\n    <tr>\n      <th>1</th>\n      <td>male_disgust</td>\n      <td>SAVEE</td>\n      <td>../data/raw/surrey-audiovisual-expressed-emoti...</td>\n    </tr>\n    <tr>\n      <th>2</th>\n      <td>male_sad</td>\n      <td>SAVEE</td>\n      <td>../data/raw/surrey-audiovisual-expressed-emoti...</td>\n    </tr>\n    <tr>\n      <th>3</th>\n      <td>male_neutral</td>\n      <td>SAVEE</td>\n      <td>../data/raw/surrey-audiovisual-expressed-emoti...</td>\n    </tr>\n    <tr>\n      <th>4</th>\n      <td>male_fear</td>\n      <td>SAVEE</td>\n      <td>../data/raw/surrey-audiovisual-expressed-emoti...</td>\n    </tr>\n  </tbody>\n</table>\n</div>"
     },
     "metadata": {},
     "execution_count": 39
    }
   ],
   "source": [
    "df = pd.concat([SAVEE_df, RAV_df, TESS_df, CREMA_df], axis = 0)\n",
    "print(df.labels.value_counts())\n",
    "df.head()\n",
    "# df.to_csv(\"../data/processed/Data_path.csv\",index=False)"
   ]
  },
  {
   "cell_type": "code",
   "execution_count": 32,
   "metadata": {},
   "outputs": [],
   "source": [
    "SAVEE_df.to_csv(\"../data/interim/SAVEE_df.csv\",index=False)\n",
    "RAV_df.to_csv(\"../data/interim/RAV_df.csv\",index=False)\n",
    "TESS_df.to_csv(\"../data/interim/TESS_df.csv\",index=False)\n",
    "CREMA_df.to_csv(\"../data/interim/CREMA_df.csv\",index=False)"
   ]
  },
  {
   "cell_type": "code",
   "execution_count": null,
   "metadata": {},
   "outputs": [],
   "source": []
  }
 ],
 "metadata": {
  "language_info": {
   "codemirror_mode": {
    "name": "ipython",
    "version": 3
   },
   "file_extension": ".py",
   "mimetype": "text/x-python",
   "name": "python",
   "nbconvert_exporter": "python",
   "pygments_lexer": "ipython3",
   "version": "3.8.2-final"
  },
  "orig_nbformat": 2,
  "kernelspec": {
   "name": "python38264bitvenvvenv6e353e8b5b38496eb3699023619b2036",
   "display_name": "Python 3.8.2 64-bit ('venv': venv)"
  }
 },
 "nbformat": 4,
 "nbformat_minor": 2
}